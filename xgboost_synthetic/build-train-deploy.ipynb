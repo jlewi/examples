{
 "cells": [
  {
   "cell_type": "markdown",
   "metadata": {},
   "source": [
    "# Train and deploy on Kubeflow from Notebooks\n",
    "\n",
    "This notebook shows you how to use Kubeflow to build, train, and deploy models on Kubernetes.\n",
    "This notebook walks you through the following\n",
    " \n",
    "* Building an XGBoost model inside a notebook\n",
    "* Training the model inside the notebook\n",
    "* Performing inference using the model inside the notebook\n",
    "* Using Kubeflow Fairing to launch training jobs on Kubernetes\n",
    "* Using Kubeflow Fairing to build and deploy a model using [Seldon Core](https://www.seldon.io/)\n",
    "* Using [Kubeflow metadata](https://github.com/kubeflow/metadata) to record metadata about your models\n",
    "* Using [Kubeflow Pipelines](https://www.kubeflow.org/docs/pipelines/) to build a pipeline to train your model\n",
    "\n",
    "## Prerequisites \n",
    "\n",
    "* This notebook assumes you are running inside 0.6 Kubeflow deployed on GKE following the [GKE instructions](https://www.kubeflow.org/docs/gke/deploy/)\n",
    "* If you are running somewhere other than GKE you will need to modify the notebook to use a different docker registry or else configure Kubeflow to work with GCR."
   ]
  },
  {
   "cell_type": "markdown",
   "metadata": {},
   "source": [
    "### Verify we have a GCP account\n",
    "\n",
    "* The cell below checks that this notebook was spawned with credentials to access GCP\n",
    "* To add credentials when you created the notebook you should have selected add gcp credential as shown below\n",
    "  ![add credential](images/addgcpsecret.png)\n"
   ]
  },
  {
   "cell_type": "code",
   "execution_count": 1,
   "metadata": {},
   "outputs": [],
   "source": [
    "import os\n",
    "if not os.getenv(\"GOOGLE_APPLICATION_CREDENTIALS\"):\n",
    "    raise ValueError(\"Notebook is missing google application credentials\")"
   ]
  },
  {
   "cell_type": "markdown",
   "metadata": {},
   "source": [
    "## Install Required Libraries\n",
    "\n",
    "Import the libraries required to train this model."
   ]
  },
  {
   "cell_type": "code",
   "execution_count": 2,
   "metadata": {},
   "outputs": [
    {
     "name": "stdout",
     "output_type": "stream",
     "text": [
      "Collecting retrying\n",
      "  Downloading https://files.pythonhosted.org/packages/44/ef/beae4b4ef80902f22e3af073397f079c96969c69b2c7d52a57ea9ae61c9d/retrying-1.3.3.tar.gz\n",
      "Requirement already satisfied: six>=1.7.0 in /opt/conda/lib/python3.6/site-packages (from retrying) (1.12.0)\n",
      "Building wheels for collected packages: retrying\n",
      "  Building wheel for retrying (setup.py) ... \u001b[?25ldone\n",
      "\u001b[?25h  Stored in directory: /home/jovyan/.cache/pip/wheels/d7/a9/33/acc7b709e2a35caa7d4cae442f6fe6fbf2c43f80823d46460c\n",
      "Successfully built retrying\n",
      "Installing collected packages: retrying\n",
      "Successfully installed retrying-1.3.3\n",
      "\u001b[33mYou are using pip version 19.0.1, however version 19.2.3 is available.\n",
      "You should consider upgrading via the 'pip install --upgrade pip' command.\u001b[0m\n"
     ]
    }
   ],
   "source": [
    "!pip3 install retrying"
   ]
  },
  {
   "cell_type": "markdown",
   "metadata": {},
   "source": [
    "* Install a specific version of fairing that this example is tested against"
   ]
  },
  {
   "cell_type": "code",
   "execution_count": 3,
   "metadata": {},
   "outputs": [
    {
     "name": "stdout",
     "output_type": "stream",
     "text": [
      "Collecting git+git://github.com/kubeflow/fairing.git@c6c075dece72135f5883abfe2a296894d74a2367\n",
      "  Cloning git://github.com/kubeflow/fairing.git (to revision c6c075dece72135f5883abfe2a296894d74a2367) to /tmp/pip-req-build-6xzul5lw\n",
      "Requirement already satisfied: docker>=3.4.1 in /opt/conda/lib/python3.6/site-packages (from fairing==0.5.3) (3.7.2)\n",
      "Requirement already satisfied: notebook>=5.6.0 in /opt/conda/lib/python3.6/site-packages (from fairing==0.5.3) (5.7.8)\n",
      "Requirement already satisfied: kubernetes>=9.0.0 in /opt/conda/lib/python3.6/site-packages (from fairing==0.5.3) (9.0.0)\n",
      "Requirement already satisfied: future>=0.17.1 in /opt/conda/lib/python3.6/site-packages (from fairing==0.5.3) (0.17.1)\n",
      "Requirement already satisfied: six>=1.11.0 in /opt/conda/lib/python3.6/site-packages (from fairing==0.5.3) (1.12.0)\n",
      "Requirement already satisfied: google-cloud-storage>=1.13.2 in /opt/conda/lib/python3.6/site-packages (from fairing==0.5.3) (1.14.0)\n",
      "Requirement already satisfied: requests>=2.21.0 in /opt/conda/lib/python3.6/site-packages (from fairing==0.5.3) (2.21.0)\n",
      "Requirement already satisfied: setuptools>=34.0.0 in /opt/conda/lib/python3.6/site-packages (from fairing==0.5.3) (40.9.0)\n",
      "Requirement already satisfied: google-auth>=1.6.2 in /opt/conda/lib/python3.6/site-packages (from fairing==0.5.3) (1.6.3)\n",
      "Requirement already satisfied: httplib2>=0.12.0 in /opt/conda/lib/python3.6/site-packages (from fairing==0.5.3) (0.12.1)\n",
      "Requirement already satisfied: oauth2client>=4.0.0 in /opt/conda/lib/python3.6/site-packages (from fairing==0.5.3) (4.1.3)\n",
      "Requirement already satisfied: tornado<6.0.0,>=5.1.1 in /opt/conda/lib/python3.6/site-packages (from fairing==0.5.3) (5.1.1)\n",
      "Requirement already satisfied: google-api-python-client>=1.7.8 in /opt/conda/lib/python3.6/site-packages (from fairing==0.5.3) (1.7.8)\n",
      "Requirement already satisfied: cloudpickle>=0.8 in /opt/conda/lib/python3.6/site-packages (from fairing==0.5.3) (0.8.1)\n",
      "Requirement already satisfied: numpy>=1.14 in /opt/conda/lib/python3.6/site-packages (from fairing==0.5.3) (1.16.2)\n",
      "Collecting urllib3==1.24.2 (from fairing==0.5.3)\n",
      "\u001b[?25l  Downloading https://files.pythonhosted.org/packages/df/1c/59cca3abf96f991f2ec3131a4ffe72ae3d9ea1f5894abe8a9c5e3c77cfee/urllib3-1.24.2-py2.py3-none-any.whl (131kB)\n",
      "\u001b[K    100% |████████████████████████████████| 133kB 3.8MB/s ta 0:00:01\n",
      "\u001b[?25hCollecting boto3>=1.9.0 (from fairing==0.5.3)\n",
      "\u001b[?25l  Downloading https://files.pythonhosted.org/packages/47/fc/acaea05658fa525c7df3380ae9c31c40157b30b5ad06f55249f02261f129/boto3-1.9.227-py2.py3-none-any.whl (128kB)\n",
      "\u001b[K    100% |████████████████████████████████| 133kB 34.8MB/s ta 0:00:01\n",
      "\u001b[?25hRequirement already satisfied: websocket-client>=0.32.0 in /opt/conda/lib/python3.6/site-packages (from docker>=3.4.1->fairing==0.5.3) (0.56.0)\n",
      "Requirement already satisfied: docker-pycreds>=0.4.0 in /opt/conda/lib/python3.6/site-packages (from docker>=3.4.1->fairing==0.5.3) (0.4.0)\n",
      "Requirement already satisfied: nbconvert in /opt/conda/lib/python3.6/site-packages (from notebook>=5.6.0->fairing==0.5.3) (5.4.1)\n",
      "Requirement already satisfied: jupyter-client>=5.2.0 in /opt/conda/lib/python3.6/site-packages (from notebook>=5.6.0->fairing==0.5.3) (5.2.4)\n",
      "Requirement already satisfied: jupyter-core>=4.4.0 in /opt/conda/lib/python3.6/site-packages (from notebook>=5.6.0->fairing==0.5.3) (4.4.0)\n",
      "Requirement already satisfied: jinja2 in /opt/conda/lib/python3.6/site-packages (from notebook>=5.6.0->fairing==0.5.3) (2.10)\n",
      "Requirement already satisfied: ipython-genutils in /opt/conda/lib/python3.6/site-packages (from notebook>=5.6.0->fairing==0.5.3) (0.2.0)\n",
      "Requirement already satisfied: pyzmq>=17 in /opt/conda/lib/python3.6/site-packages (from notebook>=5.6.0->fairing==0.5.3) (18.0.1)\n",
      "Requirement already satisfied: ipykernel in /opt/conda/lib/python3.6/site-packages (from notebook>=5.6.0->fairing==0.5.3) (5.1.0)\n",
      "Requirement already satisfied: Send2Trash in /opt/conda/lib/python3.6/site-packages (from notebook>=5.6.0->fairing==0.5.3) (1.5.0)\n",
      "Requirement already satisfied: traitlets>=4.2.1 in /opt/conda/lib/python3.6/site-packages (from notebook>=5.6.0->fairing==0.5.3) (4.3.2)\n",
      "Requirement already satisfied: prometheus-client in /opt/conda/lib/python3.6/site-packages (from notebook>=5.6.0->fairing==0.5.3) (0.6.0)\n",
      "Requirement already satisfied: terminado>=0.8.1 in /opt/conda/lib/python3.6/site-packages (from notebook>=5.6.0->fairing==0.5.3) (0.8.2)\n",
      "Requirement already satisfied: nbformat in /opt/conda/lib/python3.6/site-packages (from notebook>=5.6.0->fairing==0.5.3) (4.4.0)\n",
      "Requirement already satisfied: requests-oauthlib in /opt/conda/lib/python3.6/site-packages (from kubernetes>=9.0.0->fairing==0.5.3) (1.2.0)\n",
      "Requirement already satisfied: pyyaml>=3.12 in /opt/conda/lib/python3.6/site-packages (from kubernetes>=9.0.0->fairing==0.5.3) (5.1)\n",
      "Requirement already satisfied: python-dateutil>=2.5.3 in /opt/conda/lib/python3.6/site-packages (from kubernetes>=9.0.0->fairing==0.5.3) (2.8.0)\n",
      "Requirement already satisfied: certifi>=14.05.14 in /opt/conda/lib/python3.6/site-packages (from kubernetes>=9.0.0->fairing==0.5.3) (2019.3.9)\n",
      "Requirement already satisfied: google-cloud-core<0.30dev,>=0.29.0 in /opt/conda/lib/python3.6/site-packages (from google-cloud-storage>=1.13.2->fairing==0.5.3) (0.29.1)\n",
      "Requirement already satisfied: google-api-core<2.0.0dev,>=1.6.0 in /opt/conda/lib/python3.6/site-packages (from google-cloud-storage>=1.13.2->fairing==0.5.3) (1.9.0)\n",
      "Requirement already satisfied: google-resumable-media>=0.3.1 in /opt/conda/lib/python3.6/site-packages (from google-cloud-storage>=1.13.2->fairing==0.5.3) (0.3.2)\n",
      "Requirement already satisfied: chardet<3.1.0,>=3.0.2 in /opt/conda/lib/python3.6/site-packages (from requests>=2.21.0->fairing==0.5.3) (3.0.4)\n",
      "Requirement already satisfied: idna<2.9,>=2.5 in /opt/conda/lib/python3.6/site-packages (from requests>=2.21.0->fairing==0.5.3) (2.8)\n",
      "Requirement already satisfied: pyasn1-modules>=0.2.1 in /opt/conda/lib/python3.6/site-packages (from google-auth>=1.6.2->fairing==0.5.3) (0.2.4)\n",
      "Requirement already satisfied: rsa>=3.1.4 in /opt/conda/lib/python3.6/site-packages (from google-auth>=1.6.2->fairing==0.5.3) (4.0)\n",
      "Requirement already satisfied: cachetools>=2.0.0 in /opt/conda/lib/python3.6/site-packages (from google-auth>=1.6.2->fairing==0.5.3) (3.1.0)\n",
      "Requirement already satisfied: pyasn1>=0.1.7 in /opt/conda/lib/python3.6/site-packages (from oauth2client>=4.0.0->fairing==0.5.3) (0.4.5)\n",
      "Requirement already satisfied: uritemplate<4dev,>=3.0.0 in /opt/conda/lib/python3.6/site-packages (from google-api-python-client>=1.7.8->fairing==0.5.3) (3.0.0)\n",
      "Requirement already satisfied: google-auth-httplib2>=0.0.3 in /opt/conda/lib/python3.6/site-packages (from google-api-python-client>=1.7.8->fairing==0.5.3) (0.0.3)\n",
      "Collecting botocore<1.13.0,>=1.12.227 (from boto3>=1.9.0->fairing==0.5.3)\n",
      "\u001b[?25l  Downloading https://files.pythonhosted.org/packages/1f/d0/6648ae9564c9be39dd0a8177668ab843fc7fd640e2288d14cf58a8e23759/botocore-1.12.227-py2.py3-none-any.whl (5.7MB)\n",
      "\u001b[K    100% |████████████████████████████████| 5.7MB 6.6MB/s eta 0:00:01\n",
      "\u001b[?25hCollecting jmespath<1.0.0,>=0.7.1 (from boto3>=1.9.0->fairing==0.5.3)\n",
      "  Downloading https://files.pythonhosted.org/packages/83/94/7179c3832a6d45b266ddb2aac329e101367fbdb11f425f13771d27f225bb/jmespath-0.9.4-py2.py3-none-any.whl\n",
      "Collecting s3transfer<0.3.0,>=0.2.0 (from boto3>=1.9.0->fairing==0.5.3)\n",
      "\u001b[?25l  Downloading https://files.pythonhosted.org/packages/16/8a/1fc3dba0c4923c2a76e1ff0d52b305c44606da63f718d14d3231e21c51b0/s3transfer-0.2.1-py2.py3-none-any.whl (70kB)\n",
      "\u001b[K    100% |████████████████████████████████| 71kB 30.6MB/s ta 0:00:01\n",
      "\u001b[?25hRequirement already satisfied: mistune>=0.8.1 in /opt/conda/lib/python3.6/site-packages (from nbconvert->notebook>=5.6.0->fairing==0.5.3) (0.8.4)\n",
      "Requirement already satisfied: entrypoints>=0.2.2 in /opt/conda/lib/python3.6/site-packages (from nbconvert->notebook>=5.6.0->fairing==0.5.3) (0.3)\n",
      "Requirement already satisfied: pandocfilters>=1.4.1 in /opt/conda/lib/python3.6/site-packages (from nbconvert->notebook>=5.6.0->fairing==0.5.3) (1.4.2)\n",
      "Requirement already satisfied: pygments in /opt/conda/lib/python3.6/site-packages (from nbconvert->notebook>=5.6.0->fairing==0.5.3) (2.3.1)\n",
      "Requirement already satisfied: defusedxml in /opt/conda/lib/python3.6/site-packages (from nbconvert->notebook>=5.6.0->fairing==0.5.3) (0.5.0)\n",
      "Requirement already satisfied: testpath in /opt/conda/lib/python3.6/site-packages (from nbconvert->notebook>=5.6.0->fairing==0.5.3) (0.4.2)\n",
      "Requirement already satisfied: bleach in /opt/conda/lib/python3.6/site-packages (from nbconvert->notebook>=5.6.0->fairing==0.5.3) (3.1.0)\n",
      "Requirement already satisfied: MarkupSafe>=0.23 in /opt/conda/lib/python3.6/site-packages (from jinja2->notebook>=5.6.0->fairing==0.5.3) (1.1.1)\n",
      "Requirement already satisfied: ipython>=5.0.0 in /opt/conda/lib/python3.6/site-packages (from ipykernel->notebook>=5.6.0->fairing==0.5.3) (7.4.0)\n"
     ]
    },
    {
     "name": "stdout",
     "output_type": "stream",
     "text": [
      "Requirement already satisfied: decorator in /opt/conda/lib/python3.6/site-packages (from traitlets>=4.2.1->notebook>=5.6.0->fairing==0.5.3) (4.4.0)\n",
      "Requirement already satisfied: ptyprocess; os_name != \"nt\" in /opt/conda/lib/python3.6/site-packages (from terminado>=0.8.1->notebook>=5.6.0->fairing==0.5.3) (0.6.0)\n",
      "Requirement already satisfied: jsonschema!=2.5.0,>=2.4 in /opt/conda/lib/python3.6/site-packages (from nbformat->notebook>=5.6.0->fairing==0.5.3) (3.0.1)\n",
      "Requirement already satisfied: oauthlib>=3.0.0 in /opt/conda/lib/python3.6/site-packages (from requests-oauthlib->kubernetes>=9.0.0->fairing==0.5.3) (3.0.1)\n",
      "Requirement already satisfied: protobuf>=3.4.0 in /opt/conda/lib/python3.6/site-packages (from google-api-core<2.0.0dev,>=1.6.0->google-cloud-storage>=1.13.2->fairing==0.5.3) (3.7.1)\n",
      "Requirement already satisfied: googleapis-common-protos!=1.5.4,<2.0dev,>=1.5.3 in /opt/conda/lib/python3.6/site-packages (from google-api-core<2.0.0dev,>=1.6.0->google-cloud-storage>=1.13.2->fairing==0.5.3) (1.5.9)\n",
      "Requirement already satisfied: pytz in /opt/conda/lib/python3.6/site-packages (from google-api-core<2.0.0dev,>=1.6.0->google-cloud-storage>=1.13.2->fairing==0.5.3) (2018.9)\n",
      "Collecting docutils<0.16,>=0.10 (from botocore<1.13.0,>=1.12.227->boto3>=1.9.0->fairing==0.5.3)\n",
      "\u001b[?25l  Downloading https://files.pythonhosted.org/packages/22/cd/a6aa959dca619918ccb55023b4cb151949c64d4d5d55b3f4ffd7eee0c6e8/docutils-0.15.2-py3-none-any.whl (547kB)\n",
      "\u001b[K    100% |████████████████████████████████| 552kB 24.1MB/s ta 0:00:01\n",
      "\u001b[?25hRequirement already satisfied: webencodings in /opt/conda/lib/python3.6/site-packages (from bleach->nbconvert->notebook>=5.6.0->fairing==0.5.3) (0.5.1)\n",
      "Requirement already satisfied: jedi>=0.10 in /opt/conda/lib/python3.6/site-packages (from ipython>=5.0.0->ipykernel->notebook>=5.6.0->fairing==0.5.3) (0.13.3)\n",
      "Requirement already satisfied: pickleshare in /opt/conda/lib/python3.6/site-packages (from ipython>=5.0.0->ipykernel->notebook>=5.6.0->fairing==0.5.3) (0.7.5)\n",
      "Requirement already satisfied: prompt-toolkit<2.1.0,>=2.0.0 in /opt/conda/lib/python3.6/site-packages (from ipython>=5.0.0->ipykernel->notebook>=5.6.0->fairing==0.5.3) (2.0.9)\n",
      "Requirement already satisfied: backcall in /opt/conda/lib/python3.6/site-packages (from ipython>=5.0.0->ipykernel->notebook>=5.6.0->fairing==0.5.3) (0.1.0)\n",
      "Requirement already satisfied: pexpect; sys_platform != \"win32\" in /opt/conda/lib/python3.6/site-packages (from ipython>=5.0.0->ipykernel->notebook>=5.6.0->fairing==0.5.3) (4.6.0)\n",
      "Requirement already satisfied: attrs>=17.4.0 in /opt/conda/lib/python3.6/site-packages (from jsonschema!=2.5.0,>=2.4->nbformat->notebook>=5.6.0->fairing==0.5.3) (19.1.0)\n",
      "Requirement already satisfied: pyrsistent>=0.14.0 in /opt/conda/lib/python3.6/site-packages (from jsonschema!=2.5.0,>=2.4->nbformat->notebook>=5.6.0->fairing==0.5.3) (0.14.11)\n",
      "Requirement already satisfied: parso>=0.3.0 in /opt/conda/lib/python3.6/site-packages (from jedi>=0.10->ipython>=5.0.0->ipykernel->notebook>=5.6.0->fairing==0.5.3) (0.4.0)\n",
      "Requirement already satisfied: wcwidth in /opt/conda/lib/python3.6/site-packages (from prompt-toolkit<2.1.0,>=2.0.0->ipython>=5.0.0->ipykernel->notebook>=5.6.0->fairing==0.5.3) (0.1.7)\n",
      "Building wheels for collected packages: fairing\n",
      "  Building wheel for fairing (setup.py) ... \u001b[?25ldone\n",
      "\u001b[?25h  Stored in directory: /tmp/pip-ephem-wheel-cache-jf08xe4p/wheels/bf/3f/0f/c65ae27dc4acd9443a98bfe546ad571e9a2d9f05905274ae44\n",
      "Successfully built fairing\n",
      "\u001b[31mkfp 0.1 has requirement google-cloud-storage==1.13.0, but you'll have google-cloud-storage 1.14.0 which is incompatible.\u001b[0m\n",
      "\u001b[31mkfp 0.1 has requirement kubernetes==8.0.0, but you'll have kubernetes 9.0.0 which is incompatible.\u001b[0m\n",
      "Installing collected packages: urllib3, jmespath, docutils, botocore, s3transfer, boto3, fairing\n",
      "  Found existing installation: urllib3 1.24.1\n",
      "    Uninstalling urllib3-1.24.1:\n",
      "      Successfully uninstalled urllib3-1.24.1\n",
      "  Found existing installation: fairing 0.5\n",
      "    Uninstalling fairing-0.5:\n",
      "      Successfully uninstalled fairing-0.5\n",
      "Successfully installed boto3-1.9.227 botocore-1.12.227 docutils-0.15.2 fairing-0.5.3 jmespath-0.9.4 s3transfer-0.2.1 urllib3-1.24.2\n",
      "\u001b[33mYou are using pip version 19.0.1, however version 19.2.3 is available.\n",
      "You should consider upgrading via the 'pip install --upgrade pip' command.\u001b[0m\n"
     ]
    }
   ],
   "source": [
    "!pip3 install git+git://github.com/kubeflow/fairing.git@c6c075dece72135f5883abfe2a296894d74a2367"
   ]
  },
  {
   "cell_type": "markdown",
   "metadata": {},
   "source": [
    "* Perform some notebook setup"
   ]
  },
  {
   "cell_type": "code",
   "execution_count": 28,
   "metadata": {},
   "outputs": [
    {
     "name": "stdout",
     "output_type": "stream",
     "text": [
      "\u001b[1;31mERROR:\u001b[0m (gcloud) Command name argument expected.\n",
      "Command name argument expected.\n",
      "\n",
      "\u001b[m\u001b[1mAvailable commands for gcloud:\u001b[m\n",
      "\n",
      "\u001b[m  \u001b[1mAI and Machine Learning\u001b[m\n",
      "      ml                      Use Google Cloud machine learning capabilities.\n",
      "      ml-engine               Manage Cloud ML Engine jobs and models.\n",
      "\n",
      "\u001b[m  \u001b[1mAPI Platform and Ecosystems\u001b[m\n",
      "      endpoints               Create, enable and manage API services.\n",
      "      service-management      Create, enable and manage API services.\n",
      "      services                List, enable and disable APIs and services.\n",
      "\n",
      "\u001b[m  \u001b[1mCompute\u001b[m\n",
      "      app                     Manage your App Engine deployments.\n",
      "      compute                 Create and manipulate Google Compute Engine\n",
      "                              resources.\n",
      "      container               Deploy and manage clusters of machines for running\n",
      "                              containers.\n",
      "      functions               Manage Google Cloud Functions.\n",
      "\n",
      "\u001b[m  \u001b[1mData Analytics\u001b[m\n",
      "      composer                Create and manage Cloud Composer Environments.\n",
      "      dataflow                Manage Google Cloud Dataflow jobs.\n",
      "      dataproc                Create and manage Google Cloud Dataproc clusters\n",
      "                              and jobs.\n",
      "      pubsub                  Manage Cloud Pub/Sub topics, subscriptions, and\n",
      "                              snapshots.\n",
      "\n",
      "\u001b[m  \u001b[1mDatabases\u001b[m\n",
      "      bigtable                Manage your Cloud Bigtable storage.\n",
      "      datastore               Manage your Cloud Datastore indexes.\n",
      "      spanner                 Command groups for Cloud Spanner.\n",
      "      sql                     Create and manage Google Cloud SQL databases.\n",
      "\n",
      "\u001b[m  \u001b[1mIdentity and Security\u001b[m\n",
      "      access-context-manager  Manage Access Context Manager resources.\n",
      "      auth                    Manage oauth2 credentials for the Google Cloud\n",
      "                              SDK.\n",
      "      iam                     Manage IAM service accounts and keys.\n",
      "      kms                     Manage cryptographic keys in the cloud.\n",
      "\n",
      "\u001b[m  \u001b[1mInternet of Things\u001b[m\n",
      "      iot                     Manage Cloud IoT resources.\n",
      "\n",
      "\u001b[m  \u001b[1mManagement Tools\u001b[m\n",
      "      builds                  Create and manage builds for Google Cloud Build.\n",
      "      debug                   Commands for interacting with the Cloud Debugger.\n",
      "      deployment-manager      Manage deployments of cloud resources.\n",
      "      logging                 Manage Stackdriver Logging.\n",
      "      organizations           Create and manage Google Cloud Platform\n",
      "                              Organizations.\n",
      "      projects                Create and manage project access policies.\n",
      "\n",
      "\u001b[m  \u001b[1mMobile\u001b[m\n",
      "      firebase                Work with Google Firebase.\n",
      "\n",
      "\u001b[m  \u001b[1mNetworking\u001b[m\n",
      "      dns                     Manage your Cloud DNS managed-zones and\n",
      "                              record-sets.\n",
      "      domains                 Manage domains for your Google Cloud projects.\n",
      "\n",
      "\u001b[m  \u001b[1mSDK Tools\u001b[m\n",
      "      alpha                   Alpha versions of gcloud commands.\n",
      "      beta                    Beta versions of gcloud commands.\n",
      "      components              List, install, update, or remove Google Cloud SDK\n",
      "                              components.\n",
      "      config                  View and edit Cloud SDK properties.\n",
      "      feedback                Provide feedback to the Google Cloud SDK team.\n",
      "      help                    Search gcloud help text.\n",
      "      info                    Display information about the current gcloud\n",
      "                              environment.\n",
      "      init                    Initialize or reinitialize gcloud.\n",
      "      meta                    Cloud meta introspection commands.\n",
      "      source                  Cloud git repository commands.\n",
      "      topic                   gcloud supplementary help.\n",
      "      version                 Print version information for Cloud SDK\n",
      "                              components.\n",
      "\n",
      "\u001b[m  \u001b[1mStorage\u001b[m\n",
      "      filestore               Create and manipulate Cloud Filestore resources.\n",
      "      redis                   Manage Cloud Memorystore Redis resources.\n",
      "\n",
      "\u001b[m"
     ]
    }
   ],
   "source": [
    "!gcloud"
   ]
  },
  {
   "cell_type": "code",
   "execution_count": 4,
   "metadata": {
    "scrolled": false
   },
   "outputs": [],
   "source": [
    "import util\n",
    "from pathlib import Path\n",
    "import os\n",
    "\n",
    "util.notebook_setup()"
   ]
  },
  {
   "cell_type": "markdown",
   "metadata": {},
   "source": [
    "* Import the python libraries we will use\n",
    "* We add a comment \"fairing:include-cell\" to tell the fairing preprocessor to keep this cell when converting to python code later"
   ]
  },
  {
   "cell_type": "code",
   "execution_count": 33,
   "metadata": {},
   "outputs": [],
   "source": [
    "# fairing:include-cell\n",
    "import fire\n",
    "import joblib\n",
    "import logging\n",
    "import kfmd\n",
    "import nbconvert\n",
    "import os\n",
    "import pathlib\n",
    "import sys\n",
    "from pathlib import Path\n",
    "import pandas as pd\n",
    "import pprint\n",
    "from sklearn.metrics import mean_absolute_error\n",
    "from sklearn.model_selection import train_test_split\n",
    "from sklearn.impute import SimpleImputer\n",
    "from xgboost import XGBRegressor\n",
    "from importlib import reload\n",
    "from sklearn.datasets import make_regression\n",
    "from kfmd import metadata\n",
    "from kfmd import openapi_client\n",
    "from kfmd.openapi_client import Configuration, ApiClient, MetadataServiceApi\n",
    "from datetime import datetime\n",
    "import retrying\n",
    "import urllib3\n"
   ]
  },
  {
   "cell_type": "code",
   "execution_count": 30,
   "metadata": {},
   "outputs": [],
   "source": [
    "# Imports not to be included in the built docker image\n",
    "import kfp\n",
    "import kfp.components as comp\n",
    "import kfp.gcp as gcp\n",
    "import kfp.dsl as dsl\n",
    "import kfp.compiler as compiler\n",
    "from kubernetes import client as k8s_client\n",
    "import fairing   \n",
    "from fairing.builders import append\n",
    "from fairing.deployers import job\n",
    "from fairing.preprocessors.converted_notebook import ConvertNotebookPreprocessorWithFire\n",
    "import yaml\n"
   ]
  },
  {
   "cell_type": "markdown",
   "metadata": {},
   "source": [
    "## Code to train and predict \n",
    "\n",
    "* In the cells below we define some functions to generate data and train a model\n",
    "* These functions could just as easily be defined in a separate python module"
   ]
  },
  {
   "cell_type": "code",
   "execution_count": 7,
   "metadata": {},
   "outputs": [],
   "source": [
    "# fairing:include-cell\n",
    "def read_synthetic_input(test_size=0.25):\n",
    "    \"\"\"generate synthetic data and split it into train and test.\"\"\"\n",
    "    # generate regression dataset\n",
    "    X, y = make_regression(n_samples=200, n_features=5, noise=0.1)\n",
    "    train_X, test_X, train_y, test_y = train_test_split(X,\n",
    "                                                      y,\n",
    "                                                      test_size=test_size,\n",
    "                                                      shuffle=False)\n",
    "\n",
    "    imputer = SimpleImputer()\n",
    "    train_X = imputer.fit_transform(train_X)\n",
    "    test_X = imputer.transform(test_X)\n",
    "\n",
    "    return (train_X, train_y), (test_X, test_y)\n"
   ]
  },
  {
   "cell_type": "code",
   "execution_count": 8,
   "metadata": {},
   "outputs": [],
   "source": [
    "# fairing:include-cell\n",
    "def train_model(train_X,\n",
    "                train_y,\n",
    "                test_X,\n",
    "                test_y,\n",
    "                n_estimators,\n",
    "                learning_rate):\n",
    "    \"\"\"Train the model using XGBRegressor.\"\"\"\n",
    "    model = XGBRegressor(n_estimators=n_estimators, learning_rate=learning_rate)\n",
    "\n",
    "    model.fit(train_X,\n",
    "            train_y,\n",
    "            early_stopping_rounds=40,\n",
    "            eval_set=[(test_X, test_y)])\n",
    "\n",
    "    print(\"Best RMSE on eval: %.2f with %d rounds\",\n",
    "               model.best_score,\n",
    "               model.best_iteration+1)\n",
    "    return model\n",
    "\n",
    "def eval_model(model, test_X, test_y):\n",
    "    \"\"\"Evaluate the model performance.\"\"\"\n",
    "    predictions = model.predict(test_X)\n",
    "    mae=mean_absolute_error(predictions, test_y)\n",
    "    logging.info(\"mean_absolute_error=%.2f\", mae)\n",
    "    return mae\n",
    "\n",
    "def save_model(model, model_file):\n",
    "    \"\"\"Save XGBoost model for serving.\"\"\"\n",
    "    joblib.dump(model, model_file)\n",
    "    logging.info(\"Model export success: %s\", model_file)\n",
    "\n",
    "@retrying.retry(stop_max_delay=180000)\n",
    "def wait_for_istio(address=\"metadata-service.kubeflow.svc.cluster.local:8080\"):\n",
    "    \"\"\"Wait until we can connect to the metadata service.\n",
    "    \n",
    "    When we launch a K8s pod we may not be able to connect to the metadata service immediately\n",
    "    because the ISTIO side car hasn't started.\n",
    "    \n",
    "    This function allows us to wait for a time specified up to stop_max_delay to see if the service\n",
    "    is ready.    \n",
    "    \"\"\"\n",
    "    config = Configuration()\n",
    "    config.host = address\n",
    "    api_client = ApiClient(config)\n",
    "    client = MetadataServiceApi(api_client)\n",
    "\n",
    "    client.list_artifacts2()\n",
    "    \n",
    "def create_workspace():\n",
    "    return metadata.Workspace(\n",
    "        # Connect to metadata-service in namesapce kubeflow in k8s cluster.\n",
    "        backend_url_prefix=\"metadata-service.kubeflow.svc.cluster.local:8080\",\n",
    "        name=\"xgboost-synthetic\",\n",
    "        description=\"workspace for xgboost-synthetic artifacts and executions\")"
   ]
  },
  {
   "cell_type": "markdown",
   "metadata": {},
   "source": [
    "## Wrap Training and Prediction in a class\n",
    "\n",
    "* In the cell below we wrap training and prediction in a class\n",
    "* A class provides the structure we will need to eventually use fairing to launch separate training jobs and/or deploy the model on Kubernetes"
   ]
  },
  {
   "cell_type": "code",
   "execution_count": 9,
   "metadata": {},
   "outputs": [],
   "source": [
    "# fairing:include-cell\n",
    "class ModelServe(object):    \n",
    "    def __init__(self, model_file=None):\n",
    "        self.n_estimators = 50\n",
    "        self.learning_rate = 0.1\n",
    "        if not model_file:\n",
    "            if \"MODEL_FILE\" in os.environ:\n",
    "                print(\"model_file not supplied; checking environment variable\")\n",
    "                model_file = os.getenv(\"MODEL_FILE\")\n",
    "            else:\n",
    "                print(\"model_file not supplied; using the default\")\n",
    "                model_file = \"mockup-model.dat\"\n",
    "        \n",
    "        self.model_file = model_file\n",
    "        print(\"model_file={0}\".format(self.model_file))\n",
    "        \n",
    "        self.model = None\n",
    "        self._workspace = None\n",
    "        self.exec = self.create_execution()\n",
    "\n",
    "    def train(self, **kwargs):\n",
    "        print(\"Extra arguments: {0}\".format(kwargs))\n",
    "        (train_X, train_y), (test_X, test_y) = read_synthetic_input()\n",
    "        \n",
    "        # Here we use Kubeflow's metadata library to record information\n",
    "        # about the training run to Kubeflow's metadata store.\n",
    "        self.exec.log_input(metadata.DataSet(\n",
    "            description=\"xgboost synthetic data\",\n",
    "            name=\"synthetic-data\",\n",
    "            owner=\"someone@kubeflow.org\",\n",
    "            uri=\"file://path/to/dataset\",\n",
    "            version=\"v1.0.0\"))\n",
    "        \n",
    "        model = train_model(train_X,\n",
    "                          train_y,\n",
    "                          test_X,\n",
    "                          test_y,\n",
    "                          self.n_estimators,\n",
    "                          self.learning_rate)\n",
    "\n",
    "        mae = eval_model(model, test_X, test_y)\n",
    "        \n",
    "        # Here we log metrics about the model to Kubeflow's metadata store.\n",
    "        self.exec.log_output(metadata.Metrics(\n",
    "            name=\"xgboost-synthetic-traing-eval\",\n",
    "            owner=\"someone@kubeflow.org\",\n",
    "            description=\"training evaluation for xgboost synthetic\",\n",
    "            uri=\"gcs://path/to/metrics\",\n",
    "            metrics_type=metadata.Metrics.VALIDATION,\n",
    "            values={\"mean_absolute_error\": mae}))\n",
    "        \n",
    "        save_model(model, self.model_file)\n",
    "        self.exec.log_output(metadata.Model(\n",
    "            name=\"housing-price-model\",\n",
    "            description=\"housing price prediction model using synthetic data\",\n",
    "            owner=\"someone@kubeflow.org\",\n",
    "            uri=self.model_file,\n",
    "            model_type=\"linear_regression\",\n",
    "            training_framework={\n",
    "                \"name\": \"xgboost\",\n",
    "                \"version\": \"0.9.0\"\n",
    "            },\n",
    "            hyperparameters={\n",
    "                \"learning_rate\": self.learning_rate,\n",
    "                \"n_estimators\": self.n_estimators\n",
    "            },\n",
    "            version=datetime.utcnow().isoformat(\"T\")))\n",
    "        \n",
    "    def predict(self, X, feature_names):\n",
    "        \"\"\"Predict using the model for given ndarray.\n",
    "        \n",
    "        The predict signature should match the syntax expected by Seldon Core\n",
    "        https://github.com/SeldonIO/seldon-core so that we can use\n",
    "        Seldon h to wrap it a model server and deploy it on Kubernetes\n",
    "        \"\"\"\n",
    "        if not self.model:\n",
    "            self.model = joblib.load(self.model_file)\n",
    "        # Do any preprocessing\n",
    "        prediction = self.model.predict(data=X)\n",
    "        # Do any postprocessing\n",
    "        return [[prediction.item(0), prediction.item(1)]]\n",
    "\n",
    "    @property\n",
    "    def workspace(self):\n",
    "        if not self._workspace:\n",
    "            wait_for_istio()\n",
    "            self._workspace = create_workspace()\n",
    "        return self._workspace\n",
    "    \n",
    "    def create_execution(self):                \n",
    "        r = metadata.Run(\n",
    "            workspace=self.workspace,\n",
    "            name=\"xgboost-synthetic-faring-run\" + datetime.utcnow().isoformat(\"T\"),\n",
    "            description=\"a notebook run\")\n",
    "\n",
    "        return metadata.Execution(\n",
    "            name = \"execution\" + datetime.utcnow().isoformat(\"T\"),\n",
    "            workspace=self.workspace,\n",
    "            run=r,\n",
    "            description=\"execution for training xgboost-synthetic\")"
   ]
  },
  {
   "cell_type": "markdown",
   "metadata": {},
   "source": [
    "## Train your Model Locally\n",
    "\n",
    "* Train your model locally inside your notebook\n",
    "* To train locally we just instatiante the ModelServe class and then call train"
   ]
  },
  {
   "cell_type": "code",
   "execution_count": 11,
   "metadata": {},
   "outputs": [
    {
     "name": "stdout",
     "output_type": "stream",
     "text": [
      "model_file=mockup-model.dat\n",
      "[0]\tvalidation_0-rmse:100.138\n",
      "Will train until validation_0-rmse hasn't improved in 40 rounds.\n",
      "[1]\tvalidation_0-rmse:93.6852\n",
      "[2]\tvalidation_0-rmse:89.0878\n",
      "[3]\tvalidation_0-rmse:86.0663\n",
      "[4]\tvalidation_0-rmse:82.7185\n",
      "[5]\tvalidation_0-rmse:79.9195\n",
      "[6]\tvalidation_0-rmse:76.812\n",
      "[7]\tvalidation_0-rmse:74.3731\n",
      "[8]\tvalidation_0-rmse:72.4495\n",
      "[9]\tvalidation_0-rmse:69.922\n",
      "[10]\tvalidation_0-rmse:68.6717\n",
      "[11]\tvalidation_0-rmse:67.5411\n",
      "[12]\tvalidation_0-rmse:66.2683\n",
      "[13]\tvalidation_0-rmse:64.8277\n",
      "[14]\tvalidation_0-rmse:63.7337\n",
      "[15]\tvalidation_0-rmse:62.0093\n",
      "[16]\tvalidation_0-rmse:60.1725\n",
      "[17]\tvalidation_0-rmse:58.6364\n",
      "[18]\tvalidation_0-rmse:57.159\n",
      "[19]\tvalidation_0-rmse:55.6644\n",
      "[20]\tvalidation_0-rmse:54.7235\n",
      "[21]\tvalidation_0-rmse:53.7659\n",
      "[22]\tvalidation_0-rmse:52.9136\n",
      "[23]\tvalidation_0-rmse:52.4023\n",
      "[24]\tvalidation_0-rmse:51.3452\n",
      "[25]\tvalidation_0-rmse:50.5797\n",
      "[26]\tvalidation_0-rmse:49.7565\n",
      "[27]\tvalidation_0-rmse:49.4316\n",
      "[28]\tvalidation_0-rmse:48.6402\n",
      "[29]\tvalidation_0-rmse:47.966\n",
      "[30]\tvalidation_0-rmse:47.1492\n",
      "[31]\tvalidation_0-rmse:46.6172\n",
      "[32]\tvalidation_0-rmse:46.0768\n",
      "[33]\tvalidation_0-rmse:45.5941\n",
      "[34]\tvalidation_0-rmse:45.414\n",
      "[35]\tvalidation_0-rmse:44.6748\n",
      "[36]\tvalidation_0-rmse:44.301\n",
      "[37]\tvalidation_0-rmse:43.5533\n",
      "[38]\tvalidation_0-rmse:43.4835\n",
      "[39]\tvalidation_0-rmse:43.1078\n",
      "[40]\tvalidation_0-rmse:42.8832\n",
      "[41]\tvalidation_0-rmse:42.4728\n",
      "[42]\tvalidation_0-rmse:42.0628\n",
      "[43]\tvalidation_0-rmse:41.8367\n",
      "[44]\tvalidation_0-rmse:41.6964\n",
      "[45]\tvalidation_0-rmse:41.3086\n",
      "[46]\tvalidation_0-rmse:40.8202\n",
      "[47]\tvalidation_0-rmse:40.5362\n",
      "[48]\tvalidation_0-rmse:40.3548\n",
      "[49]\tvalidation_0-rmse:40.1183\n"
     ]
    },
    {
     "name": "stderr",
     "output_type": "stream",
     "text": [
      "mean_absolute_error=29.57\n",
      "Model export success: mockup-model.dat\n"
     ]
    },
    {
     "name": "stdout",
     "output_type": "stream",
     "text": [
      "Best RMSE on eval: %.2f with %d rounds 40.118328 50\n"
     ]
    }
   ],
   "source": [
    "model = ModelServe(model_file=\"mockup-model.dat\")\n",
    "model.train()"
   ]
  },
  {
   "cell_type": "markdown",
   "metadata": {},
   "source": [
    "## Predict locally\n",
    "\n",
    "* Run prediction inside the notebook using the newly created model\n",
    "* To run prediction we just invoke redict"
   ]
  },
  {
   "cell_type": "code",
   "execution_count": 12,
   "metadata": {},
   "outputs": [
    {
     "name": "stdout",
     "output_type": "stream",
     "text": [
      "model_file not supplied; using the default\n",
      "model_file=mockup-model.dat\n"
     ]
    },
    {
     "data": {
      "text/plain": [
       "[[40.40393829345703, -183.3238525390625]]"
      ]
     },
     "execution_count": 12,
     "metadata": {},
     "output_type": "execute_result"
    }
   ],
   "source": [
    "(train_X, train_y), (test_X, test_y) =read_synthetic_input()\n",
    "\n",
    "ModelServe().predict(test_X, None)"
   ]
  },
  {
   "cell_type": "markdown",
   "metadata": {},
   "source": [
    "## Use Fairing to Launch a K8s Job to train your model\n",
    "\n",
    "* Now that we have trained a model locally we can use fairing to\n",
    "  1. Launch a Kubernetes job to train the model\n",
    "  1. Deploy the model on Kubernetes\n",
    "* Launching a separate Kubernetes job to train the model has the following advantages\n",
    "\n",
    "  * You can leverage Kubernetes to run multiple training jobs in parallel \n",
    "  * You can run long running jobs without blocking your kernel"
   ]
  },
  {
   "cell_type": "markdown",
   "metadata": {},
   "source": [
    "### Configure The Docker Registry For Fairing\n",
    "\n",
    "* In order to build docker images from your notebook we need a docker registry where the images will be stored\n",
    "* Below you set some variables specifying a [GCR container registry](https://cloud.google.com/container-registry/docs/)\n",
    "* Fairing provides a utility function to guess the name of your GCP project"
   ]
  },
  {
   "cell_type": "code",
   "execution_count": 97,
   "metadata": {},
   "outputs": [],
   "source": [
    "# Setting up google container repositories (GCR) for storing output containers\n",
    "# You can use any docker container registry istead of GCR\n",
    "GCP_PROJECT = fairing.cloud.gcp.guess_project_name()\n",
    "DOCKER_REGISTRY = 'gcr.io/{}/fairing-job'.format(GCP_PROJECT)"
   ]
  },
  {
   "cell_type": "markdown",
   "metadata": {},
   "source": [
    "## Use fairing to build the docker image\n",
    "\n",
    "* First you will use fairing's kaniko builder to build a docker image that includes all your dependencies\n",
    "  * You use kaniko because you want to be able to run `pip` to install dependencies\n",
    "  * Kaniko gives you the flexibility to build images from Dockerfiles\n",
    "* kaniko, however, can be slow\n",
    "* so you will build a base image using Kaniko and then every time your code changes you will just build an image\n",
    "  starting from your base image and adding your code to it\n",
    "* you use the fairing build to enable these fast rebuilds"
   ]
  },
  {
   "cell_type": "code",
   "execution_count": 110,
   "metadata": {},
   "outputs": [
    {
     "name": "stderr",
     "output_type": "stream",
     "text": [
      "Converting build-train-deploy.ipynb to build-train-deploy.py\n",
      "Creating entry point for the class name ModelServe\n"
     ]
    },
    {
     "data": {
      "text/plain": [
       "[PosixPath('build-train-deploy.py'),\n",
       " 'requirements.txt',\n",
       " 'xgboost_util.py',\n",
       " 'mockup-model.dat']"
      ]
     },
     "execution_count": 110,
     "metadata": {},
     "output_type": "execute_result"
    }
   ],
   "source": [
    "from fairing.builders import cluster\n",
    "preprocessor = ConvertNotebookPreprocessorWithFire(\"ModelServe\")\n",
    "\n",
    "if not preprocessor.input_files:\n",
    "    preprocessor.input_files = set()\n",
    "input_files=[\"xgboost_util.py\", \"mockup-model.dat\", \"requirements.txt\"]\n",
    "preprocessor.input_files =  set([os.path.normpath(f) for f in input_files])\n",
    "preprocessor.preprocess()"
   ]
  },
  {
   "cell_type": "markdown",
   "metadata": {},
   "source": [
    "### Build the base image\n",
    "\n",
    "* You use cluster_builder to build the base image\n",
    "* You only need to perform this again if we change our Docker image or the dependencies we need to install\n",
    "* ClusterBuilder takes as input the DockerImage to use as a base image\n",
    "* You should use the same Jupyter image that you are using for your notebook server so that your environment will be\n",
    "  the same when you launch Kubernetes jobs"
   ]
  },
  {
   "cell_type": "code",
   "execution_count": 15,
   "metadata": {
    "scrolled": true
   },
   "outputs": [
    {
     "name": "stderr",
     "output_type": "stream",
     "text": [
      "Building image using cluster builder.\n",
      "Creating docker context: /tmp/fairing_context_p_cyutyy\n",
      "Converting build-train-deploy.ipynb to build-train-deploy.py\n",
      "Creating entry point for the class name ModelServe\n",
      "Waiting for fairing-builder-gb2lp to start...\n",
      "Waiting for fairing-builder-gb2lp to start...\n",
      "Waiting for fairing-builder-gb2lp to start...\n",
      "Waiting for fairing-builder-gb2lp to start...\n",
      "Waiting for fairing-builder-gb2lp to start...\n",
      "Pod started running True\n"
     ]
    },
    {
     "name": "stdout",
     "output_type": "stream",
     "text": [
      "\u001b[36mINFO\u001b[0m[0006] Downloading base image gcr.io/kubeflow-images-public/tensorflow-1.13.1-notebook-cpu:v0.5.0\n",
      "\u001b[36mINFO\u001b[0m[0006] Downloading base image gcr.io/kubeflow-images-public/tensorflow-1.13.1-notebook-cpu:v0.5.0\n",
      "\u001b[33mWARN\u001b[0m[0006] Error while retrieving image from cache: getting image from path: open /cache/sha256:5aaccf0267f085afd976342a8e943a9c6cefccef5b554df4e15fa7bf15cbd7a3: no such file or directory\n",
      "\u001b[36mINFO\u001b[0m[0006] Using files from context: [/kaniko/buildcontext/app/requirements.txt]\n",
      "\u001b[36mINFO\u001b[0m[0006] Checking for cached layer gcr.io/jlewi-dev/fairing-job/fairing-job/cache:488afeebb3bcde81c38dc99f3de2f4ba06b85302f8440b625e8fe1b08c53ef72...\n",
      "\u001b[36mINFO\u001b[0m[0007] Using caching version of cmd: RUN if [ -e requirements.txt ];then pip install --no-cache -r requirements.txt; fi\n",
      "\u001b[36mINFO\u001b[0m[0007] Using files from context: [/kaniko/buildcontext/app]\n",
      "\u001b[36mINFO\u001b[0m[0007] Taking snapshot of full filesystem...\n",
      "\u001b[36mINFO\u001b[0m[0007] Skipping paths under /dev, as it is a whitelisted directory\n",
      "\u001b[36mINFO\u001b[0m[0007] Skipping paths under /etc/secrets, as it is a whitelisted directory\n",
      "\u001b[36mINFO\u001b[0m[0007] Skipping paths under /kaniko, as it is a whitelisted directory\n",
      "\u001b[36mINFO\u001b[0m[0007] Skipping paths under /proc, as it is a whitelisted directory\n",
      "\u001b[36mINFO\u001b[0m[0007] Skipping paths under /sys, as it is a whitelisted directory\n",
      "\u001b[36mINFO\u001b[0m[0007] Skipping paths under /var/run, as it is a whitelisted directory\n",
      "\u001b[36mINFO\u001b[0m[0007] WORKDIR /app/\n",
      "\u001b[36mINFO\u001b[0m[0007] cmd: workdir\n",
      "\u001b[36mINFO\u001b[0m[0007] Changed working directory to /app/\n",
      "\u001b[36mINFO\u001b[0m[0007] Creating directory /app/\n",
      "\u001b[36mINFO\u001b[0m[0007] Taking snapshot of files...\n",
      "\u001b[36mINFO\u001b[0m[0007] ENV FAIRING_RUNTIME 1\n",
      "\u001b[36mINFO\u001b[0m[0007] No files changed in this command, skipping snapshotting.\n",
      "\u001b[36mINFO\u001b[0m[0007] Using files from context: [/kaniko/buildcontext/app/requirements.txt]\n",
      "\u001b[36mINFO\u001b[0m[0007] COPY /app//requirements.txt /app/\n",
      "\u001b[36mINFO\u001b[0m[0007] Taking snapshot of files...\n",
      "\u001b[36mINFO\u001b[0m[0007] RUN if [ -e requirements.txt ];then pip install --no-cache -r requirements.txt; fi\n",
      "\u001b[36mINFO\u001b[0m[0007] Found cached layer, extracting to filesystem\n",
      "\u001b[36mINFO\u001b[0m[0010] Taking snapshot of files...\n",
      "\u001b[36mINFO\u001b[0m[0013] Using files from context: [/kaniko/buildcontext/app]\n",
      "\u001b[36mINFO\u001b[0m[0013] COPY /app/ /app/\n",
      "\u001b[36mINFO\u001b[0m[0013] Taking snapshot of files...\n",
      "2019/09/12 04:38:13 existing blob: sha256:9ad0c8331ed7f0f76b54d8e91e66661a3ca35e02a25cc83ccb48d51fa89e5573\n",
      "2019/09/12 04:38:13 existing blob: sha256:fa3f2f277e67c5cbbf1dac21dc27111a60d3cd2ef494d94aa1515d3319f2a245\n",
      "2019/09/12 04:38:13 existing blob: sha256:432f7fba907384de9a5c1c23aed93fa3eff7d6a8d89a91f5eab99f41aa889323\n",
      "2019/09/12 04:38:13 existing blob: sha256:124c757242f88002a858c23fc79f8262f9587fa30fd92507e586ad074afb42b6\n",
      "2019/09/12 04:38:13 existing blob: sha256:9d866f8bde2a0d607a6d17edc0fbd5e00b58306efc2b0a57e0ba72f269e7c6be\n",
      "2019/09/12 04:38:13 existing blob: sha256:398d32b153e84fe343f0c5b07d65e89b05551aae6cb8b3a03bb2b662976eb3b8\n",
      "2019/09/12 04:38:13 existing blob: sha256:59951887a0c1d1a227f43219b3bc84562a6f2a7e0ab5c276fbd9eaba6ebec02d\n",
      "2019/09/12 04:38:13 existing blob: sha256:147c5bbff888fc9cddffd4078daa35bba0d1d6f6c7175a1acb144412a43b3fce\n",
      "2019/09/12 04:38:13 existing blob: sha256:afde35469481d2bc446d649a7a3d099147bbf7696b66333e76a411686b617ea1\n",
      "2019/09/12 04:38:13 existing blob: sha256:8485e620dff15e8a69076ac02f6b23ffb3408161cdc2c0572905838765a84854\n",
      "2019/09/12 04:38:13 existing blob: sha256:22ea01b3a354ebdcf4386e6d2f53b6cf65bd9cdcb34a70f32e00b90a477589d0\n",
      "2019/09/12 04:38:13 existing blob: sha256:c451d20886c33c47dab7b01b05ece292ee5173a9a4aced925035401a6b1de62e\n",
      "2019/09/12 04:38:13 existing blob: sha256:bd5e67bf2947497b4a4347d2751797d6b3a40f0dc5d355185815ee6da1b8ae0c\n",
      "2019/09/12 04:38:13 existing blob: sha256:47956fc6abae87d70180bc4f0efdad014b8e2a3b617a447ac01f674336737dfc\n",
      "2019/09/12 04:38:13 existing blob: sha256:9ab35225e174496943b6a86bf62d004409479cf722ef1d3e01ca48afc8cfaa79\n",
      "2019/09/12 04:38:13 existing blob: sha256:86db56dbcdfc4e5ba205e00f3de178548dd0fcd3d1d9ec011747ca0bb08a8177\n",
      "2019/09/12 04:38:13 existing blob: sha256:62228d5c51598033083adbf71e8ee3d8d523d7d6d8c9d789b8c8a2d71ca988ac\n",
      "2019/09/12 04:38:13 existing blob: sha256:167108358fe643eea57fc595ff9b76a1a7e09e022c84d724346ce5b41d0148bc\n",
      "2019/09/12 04:38:13 existing blob: sha256:547e89bdafacadd9655a394a9d73c49c9890233c0cd244cbc5b1cb859be1395c\n",
      "2019/09/12 04:38:13 existing blob: sha256:ff51e784988b3a953df5d6ba36b982436c2b16a77eb081ce7a589ca67d04144c\n",
      "2019/09/12 04:38:14 existing blob: sha256:969fc9c5501e60432ca0bc4b635493feb2f90e14822d2f3e3f79742fed96757d\n",
      "2019/09/12 04:38:15 pushed blob sha256:5fa9df288074d3293d4c7303326b3d3e26d216b9a587370cdf2e51bd048e8535\n",
      "2019/09/12 04:38:15 pushed blob sha256:e6d6aecaf31d5a161ceb2cdcea1d27248e55a3d089635ed71216d0a2beb3ed06\n",
      "2019/09/12 04:38:15 pushed blob sha256:ddc0f24deb6d27094b246d6c52ba5dd92414e10b97350444b5944f97632dbd1a\n",
      "2019/09/12 04:38:16 pushed blob sha256:baea02b51f85f90cb063fbc8f9200a0c96b60aa16859eae94a419668a65d5f3c\n",
      "2019/09/12 04:38:19 pushed blob sha256:811693ee21621bd4c7e452bbd0f37ae5080b82534329c719df588cf053be3aeb\n",
      "2019/09/12 04:38:20 gcr.io/jlewi-dev/fairing-job/fairing-job:8FB954EE: digest: sha256:302108ce59ac55294ba2e9ec80b6511223821876e748963b2878011310a5dec8 size: 4325\n"
     ]
    }
   ],
   "source": [
    "# Use a stock jupyter image as our base image\n",
    "base_image = \"gcr.io/kubeflow-images-public/tensorflow-1.13.1-notebook-cpu:v0.5.0\"\n",
    "\n",
    "cluster_builder = cluster.cluster.ClusterBuilder(registry=DOCKER_REGISTRY,\n",
    "                                                 base_image=base_image,\n",
    "                                                 preprocessor=preprocessor,\n",
    "                                                 pod_spec_mutators=[fairing.cloud.gcp.add_gcp_credentials_if_exists],\n",
    "                                                 context_source=cluster.gcs_context.GCSContextSource())\n",
    "cluster_builder.build()"
   ]
  },
  {
   "cell_type": "markdown",
   "metadata": {},
   "source": [
    "### Build the actual image\n",
    "\n",
    "Here you use the append builder to add your code to the base image\n",
    "\n",
    "* Calling preprocessor.preprocess() converts your notebook file to a python file\n",
    "\n",
    "  * You are using the [ConvertNotebookPreprocessorWithFire](https://github.com/kubeflow/fairing/blob/master/fairing/preprocessors/converted_notebook.py#L85) \n",
    "  * This preprocessor converts ipynb files to py files by doing the following\n",
    "    1. Removing all cells which don't have a comment `# fairing:include-cell`\n",
    "    1. Using [python-fire](https://github.com/google/python-fire) to add entry points for the class specified in the constructor \n",
    "    \n",
    "  * Call preprocess() will create the file build-train-deploy.py\n",
    "  \n",
    "* You use the AppendBuilder to rapidly build a new docker image by quickly adding some files to an existing docker image\n",
    "  * The AppendBuilder is super fast so its very convenient for rebuilding your images as you iterate on your code\n",
    "  * The AppendBuilder will add the converted notebook, build-train-deploy.py, along with any files specified in `preprocessor.input_files` to `/app` in the newly created image"
   ]
  },
  {
   "cell_type": "code",
   "execution_count": 111,
   "metadata": {
    "scrolled": true
   },
   "outputs": [
    {
     "name": "stderr",
     "output_type": "stream",
     "text": [
      "Converting build-train-deploy.ipynb to build-train-deploy.py\n",
      "Creating entry point for the class name ModelServe\n",
      "Building image using Append builder...\n",
      "Creating docker context: /tmp/fairing_context_ofq601li\n",
      "Converting build-train-deploy.ipynb to build-train-deploy.py\n",
      "Creating entry point for the class name ModelServe\n",
      "Loading Docker credentials for repository 'gcr.io/jlewi-dev/fairing-job/fairing-job:8FB954EE'\n",
      "Invoking 'docker-credential-gcloud' to obtain Docker credentials.\n",
      "Successfully obtained Docker credentials.\n",
      "Image successfully built in 1.1783705039415509s.\n",
      "Pushing image gcr.io/jlewi-dev/fairing-job/fairing-job:A2EFFE46...\n",
      "Loading Docker credentials for repository 'gcr.io/jlewi-dev/fairing-job/fairing-job:A2EFFE46'\n",
      "Invoking 'docker-credential-gcloud' to obtain Docker credentials.\n",
      "Successfully obtained Docker credentials.\n",
      "Uploading gcr.io/jlewi-dev/fairing-job/fairing-job:A2EFFE46\n",
      "Layer sha256:147c5bbff888fc9cddffd4078daa35bba0d1d6f6c7175a1acb144412a43b3fce exists, skipping\n",
      "Layer sha256:969fc9c5501e60432ca0bc4b635493feb2f90e14822d2f3e3f79742fed96757d exists, skipping\n",
      "Layer sha256:59951887a0c1d1a227f43219b3bc84562a6f2a7e0ab5c276fbd9eaba6ebec02d exists, skipping\n",
      "Layer sha256:124c757242f88002a858c23fc79f8262f9587fa30fd92507e586ad074afb42b6 exists, skipping\n",
      "Layer sha256:ddc0f24deb6d27094b246d6c52ba5dd92414e10b97350444b5944f97632dbd1a exists, skipping\n",
      "Layer sha256:8485e620dff15e8a69076ac02f6b23ffb3408161cdc2c0572905838765a84854 exists, skipping\n",
      "Layer sha256:167108358fe643eea57fc595ff9b76a1a7e09e022c84d724346ce5b41d0148bc exists, skipping\n",
      "Layer sha256:9d866f8bde2a0d607a6d17edc0fbd5e00b58306efc2b0a57e0ba72f269e7c6be exists, skipping\n",
      "Layer sha256:398d32b153e84fe343f0c5b07d65e89b05551aae6cb8b3a03bb2b662976eb3b8 exists, skipping\n",
      "Layer sha256:62228d5c51598033083adbf71e8ee3d8d523d7d6d8c9d789b8c8a2d71ca988ac exists, skipping\n",
      "Layer sha256:86db56dbcdfc4e5ba205e00f3de178548dd0fcd3d1d9ec011747ca0bb08a8177 exists, skipping\n",
      "Layer sha256:bd5e67bf2947497b4a4347d2751797d6b3a40f0dc5d355185815ee6da1b8ae0c exists, skipping\n",
      "Layer sha256:e6d6aecaf31d5a161ceb2cdcea1d27248e55a3d089635ed71216d0a2beb3ed06 exists, skipping\n",
      "Layer sha256:c451d20886c33c47dab7b01b05ece292ee5173a9a4aced925035401a6b1de62e exists, skipping\n",
      "Layer sha256:547e89bdafacadd9655a394a9d73c49c9890233c0cd244cbc5b1cb859be1395c exists, skipping\n",
      "Layer sha256:9ad0c8331ed7f0f76b54d8e91e66661a3ca35e02a25cc83ccb48d51fa89e5573 exists, skipping\n",
      "Layer sha256:432f7fba907384de9a5c1c23aed93fa3eff7d6a8d89a91f5eab99f41aa889323 exists, skipping\n",
      "Layer sha256:5fa9df288074d3293d4c7303326b3d3e26d216b9a587370cdf2e51bd048e8535 exists, skipping\n",
      "Layer sha256:9ab35225e174496943b6a86bf62d004409479cf722ef1d3e01ca48afc8cfaa79 exists, skipping\n",
      "Layer sha256:811693ee21621bd4c7e452bbd0f37ae5080b82534329c719df588cf053be3aeb exists, skipping\n",
      "Layer sha256:afde35469481d2bc446d649a7a3d099147bbf7696b66333e76a411686b617ea1 exists, skipping\n",
      "Layer sha256:ff51e784988b3a953df5d6ba36b982436c2b16a77eb081ce7a589ca67d04144c exists, skipping\n",
      "Layer sha256:47956fc6abae87d70180bc4f0efdad014b8e2a3b617a447ac01f674336737dfc exists, skipping\n",
      "Layer sha256:22ea01b3a354ebdcf4386e6d2f53b6cf65bd9cdcb34a70f32e00b90a477589d0 exists, skipping\n",
      "Layer sha256:fa3f2f277e67c5cbbf1dac21dc27111a60d3cd2ef494d94aa1515d3319f2a245 exists, skipping\n",
      "Layer sha256:0be9f4bfc31c4d33e98b929fa48edaf90abf38d9eccbaa64503675c56b985bf8 pushed.\n",
      "Layer sha256:1e58829bf0c2ce00c22e14da404dbb6cc120199a5999b3ef7d93fe2d8f23f246 pushed.\n",
      "Finished upload of: gcr.io/jlewi-dev/fairing-job/fairing-job:A2EFFE46\n",
      "Pushed image gcr.io/jlewi-dev/fairing-job/fairing-job:A2EFFE46 in 3.188737316057086s.\n"
     ]
    }
   ],
   "source": [
    "preprocessor.preprocess()\n",
    "\n",
    "builder = append.append.AppendBuilder(registry=DOCKER_REGISTRY,\n",
    "                                      base_image=cluster_builder.image_tag, preprocessor=preprocessor)\n",
    "builder.build()\n"
   ]
  },
  {
   "cell_type": "markdown",
   "metadata": {},
   "source": [
    "## Launch the K8s Job\n",
    "\n",
    "* You can use fairing to easily launch a [Kubernetes job](https://kubernetes.io/docs/concepts/workloads/controllers/jobs-run-to-completion/) to invoke code\n",
    "* You use fairings Kubernetes job library to build a Kubernetes job\n",
    "  * You use pod mutators to attach GCP credentials to the pod\n",
    "  * You can also use pod mutators to attch PVCs\n",
    "* Since the [ConvertNotebookPreprocessorWithFire](https://github.com/kubeflow/fairing/blob/master/fairing/preprocessors/converted_notebook.py#L85) is using [python-fire](https://github.com/google/python-fire) you can easily invoke any method inside the ModelServe class just by configuring the command invoked by the Kubernetes job\n",
    "   * In the cell below you extend the command to include `train` as an argument because you want to invoke the train\n",
    "     function\n",
    "     \n",
    "**Note** When you invoke train_deployer.deploy; fairing will stream the logs from the Kubernetes job. The job will initially show some connection errors because the job will try to connect to the metadataserver. You can ignore these errors; the job will retry until its able to connect and then continue"
   ]
  },
  {
   "cell_type": "code",
   "execution_count": 17,
   "metadata": {},
   "outputs": [
    {
     "name": "stderr",
     "output_type": "stream",
     "text": [
      "The job fairing-job-x8sbq launched.\n",
      "Waiting for fairing-job-x8sbq-wgjzc to start...\n",
      "Waiting for fairing-job-x8sbq-wgjzc to start...\n",
      "Waiting for fairing-job-x8sbq-wgjzc to start...\n",
      "Waiting for fairing-job-x8sbq-wgjzc to start...\n",
      "Waiting for fairing-job-x8sbq-wgjzc to start...\n",
      "Pod started running True\n"
     ]
    },
    {
     "name": "stdout",
     "output_type": "stream",
     "text": [
      "Retrying (Retry(total=2, connect=None, read=None, redirect=None, status=None)) after connection broken by 'NewConnectionError('<urllib3.connection.HTTPConnection object at 0x7f2c8e7a24a8>: Failed to establish a new connection: [Errno 111] Connection refused',)': /api/v1alpha1/artifacts\n",
      "Retrying (Retry(total=1, connect=None, read=None, redirect=None, status=None)) after connection broken by 'NewConnectionError('<urllib3.connection.HTTPConnection object at 0x7f2c8e7a2588>: Failed to establish a new connection: [Errno 111] Connection refused',)': /api/v1alpha1/artifacts\n",
      "Retrying (Retry(total=0, connect=None, read=None, redirect=None, status=None)) after connection broken by 'NewConnectionError('<urllib3.connection.HTTPConnection object at 0x7f2c8e7a2668>: Failed to establish a new connection: [Errno 111] Connection refused',)': /api/v1alpha1/artifacts\n",
      "Retrying (Retry(total=2, connect=None, read=None, redirect=None, status=None)) after connection broken by 'NewConnectionError('<urllib3.connection.HTTPConnection object at 0x7f2c8e7a2c88>: Failed to establish a new connection: [Errno 111] Connection refused',)': /api/v1alpha1/artifacts\n",
      "Retrying (Retry(total=1, connect=None, read=None, redirect=None, status=None)) after connection broken by 'NewConnectionError('<urllib3.connection.HTTPConnection object at 0x7f2c8e7a2d68>: Failed to establish a new connection: [Errno 111] Connection refused',)': /api/v1alpha1/artifacts\n",
      "Retrying (Retry(total=0, connect=None, read=None, redirect=None, status=None)) after connection broken by 'NewConnectionError('<urllib3.connection.HTTPConnection object at 0x7f2c7f3f4710>: Failed to establish a new connection: [Errno 111] Connection refused',)': /api/v1alpha1/artifacts\n",
      "Retrying (Retry(total=2, connect=None, read=None, redirect=None, status=None)) after connection broken by 'NewConnectionError('<urllib3.connection.HTTPConnection object at 0x7f2c7f3ee198>: Failed to establish a new connection: [Errno 111] Connection refused',)': /api/v1alpha1/artifacts\n",
      "Retrying (Retry(total=1, connect=None, read=None, redirect=None, status=None)) after connection broken by 'NewConnectionError('<urllib3.connection.HTTPConnection object at 0x7f2c7f3ee278>: Failed to establish a new connection: [Errno 111] Connection refused',)': /api/v1alpha1/artifacts\n",
      "Retrying (Retry(total=0, connect=None, read=None, redirect=None, status=None)) after connection broken by 'NewConnectionError('<urllib3.connection.HTTPConnection object at 0x7f2c7f3ee358>: Failed to establish a new connection: [Errno 111] Connection refused',)': /api/v1alpha1/artifacts\n",
      "Retrying (Retry(total=2, connect=None, read=None, redirect=None, status=None)) after connection broken by 'NewConnectionError('<urllib3.connection.HTTPConnection object at 0x7f2c7f3ee940>: Failed to establish a new connection: [Errno 111] Connection refused',)': /api/v1alpha1/artifacts\n",
      "Retrying (Retry(total=1, connect=None, read=None, redirect=None, status=None)) after connection broken by 'NewConnectionError('<urllib3.connection.HTTPConnection object at 0x7f2c7f3eea20>: Failed to establish a new connection: [Errno 111] Connection refused',)': /api/v1alpha1/artifacts\n",
      "Retrying (Retry(total=0, connect=None, read=None, redirect=None, status=None)) after connection broken by 'NewConnectionError('<urllib3.connection.HTTPConnection object at 0x7f2c7f3eeb00>: Failed to establish a new connection: [Errno 111] Connection refused',)': /api/v1alpha1/artifacts\n",
      "Retrying (Retry(total=2, connect=None, read=None, redirect=None, status=None)) after connection broken by 'NewConnectionError('<urllib3.connection.HTTPConnection object at 0x7f2c7f3fb1d0>: Failed to establish a new connection: [Errno 111] Connection refused',)': /api/v1alpha1/artifacts\n",
      "Retrying (Retry(total=1, connect=None, read=None, redirect=None, status=None)) after connection broken by 'NewConnectionError('<urllib3.connection.HTTPConnection object at 0x7f2c7f3ee470>: Failed to establish a new connection: [Errno 111] Connection refused',)': /api/v1alpha1/artifacts\n",
      "Retrying (Retry(total=0, connect=None, read=None, redirect=None, status=None)) after connection broken by 'NewConnectionError('<urllib3.connection.HTTPConnection object at 0x7f2c7f3ee048>: Failed to establish a new connection: [Errno 111] Connection refused',)': /api/v1alpha1/artifacts\n",
      "Retrying (Retry(total=2, connect=None, read=None, redirect=None, status=None)) after connection broken by 'NewConnectionError('<urllib3.connection.HTTPConnection object at 0x7f2c8e7a2dd8>: Failed to establish a new connection: [Errno 111] Connection refused',)': /api/v1alpha1/artifacts\n",
      "Retrying (Retry(total=1, connect=None, read=None, redirect=None, status=None)) after connection broken by 'NewConnectionError('<urllib3.connection.HTTPConnection object at 0x7f2c8e7a2e80>: Failed to establish a new connection: [Errno 111] Connection refused',)': /api/v1alpha1/artifacts\n",
      "Retrying (Retry(total=0, connect=None, read=None, redirect=None, status=None)) after connection broken by 'NewConnectionError('<urllib3.connection.HTTPConnection object at 0x7f2c7f3f4518>: Failed to establish a new connection: [Errno 111] Connection refused',)': /api/v1alpha1/artifacts\n",
      "Retrying (Retry(total=2, connect=None, read=None, redirect=None, status=None)) after connection broken by 'NewConnectionError('<urllib3.connection.HTTPConnection object at 0x7f2c7f3fb7f0>: Failed to establish a new connection: [Errno 111] Connection refused',)': /api/v1alpha1/artifacts\n",
      "Retrying (Retry(total=1, connect=None, read=None, redirect=None, status=None)) after connection broken by 'NewConnectionError('<urllib3.connection.HTTPConnection object at 0x7f2c7f3fb8d0>: Failed to establish a new connection: [Errno 111] Connection refused',)': /api/v1alpha1/artifacts\n",
      "Retrying (Retry(total=0, connect=None, read=None, redirect=None, status=None)) after connection broken by 'NewConnectionError('<urllib3.connection.HTTPConnection object at 0x7f2c7f3fb9b0>: Failed to establish a new connection: [Errno 111] Connection refused',)': /api/v1alpha1/artifacts\n",
      "Retrying (Retry(total=2, connect=None, read=None, redirect=None, status=None)) after connection broken by 'NewConnectionError('<urllib3.connection.HTTPConnection object at 0x7f2c7f409080>: Failed to establish a new connection: [Errno 111] Connection refused',)': /api/v1alpha1/artifacts\n",
      "Retrying (Retry(total=1, connect=None, read=None, redirect=None, status=None)) after connection broken by 'NewConnectionError('<urllib3.connection.HTTPConnection object at 0x7f2c7f409160>: Failed to establish a new connection: [Errno 111] Connection refused',)': /api/v1alpha1/artifacts\n",
      "Retrying (Retry(total=0, connect=None, read=None, redirect=None, status=None)) after connection broken by 'NewConnectionError('<urllib3.connection.HTTPConnection object at 0x7f2c7f409240>: Failed to establish a new connection: [Errno 111] Connection refused',)': /api/v1alpha1/artifacts\n",
      "Retrying (Retry(total=2, connect=None, read=None, redirect=None, status=None)) after connection broken by 'NewConnectionError('<urllib3.connection.HTTPConnection object at 0x7f2c8e7a2dd8>: Failed to establish a new connection: [Errno 111] Connection refused',)': /api/v1alpha1/artifacts\n",
      "Retrying (Retry(total=1, connect=None, read=None, redirect=None, status=None)) after connection broken by 'NewConnectionError('<urllib3.connection.HTTPConnection object at 0x7f2c8e7a2f98>: Failed to establish a new connection: [Errno 111] Connection refused',)': /api/v1alpha1/artifacts\n",
      "Retrying (Retry(total=0, connect=None, read=None, redirect=None, status=None)) after connection broken by 'NewConnectionError('<urllib3.connection.HTTPConnection object at 0x7f2c8e7a2e10>: Failed to establish a new connection: [Errno 111] Connection refused',)': /api/v1alpha1/artifacts\n",
      "Retrying (Retry(total=2, connect=None, read=None, redirect=None, status=None)) after connection broken by 'NewConnectionError('<urllib3.connection.HTTPConnection object at 0x7f2c7f4091d0>: Failed to establish a new connection: [Errno 111] Connection refused',)': /api/v1alpha1/artifacts\n",
      "Retrying (Retry(total=1, connect=None, read=None, redirect=None, status=None)) after connection broken by 'NewConnectionError('<urllib3.connection.HTTPConnection object at 0x7f2c7f409630>: Failed to establish a new connection: [Errno 111] Connection refused',)': /api/v1alpha1/artifacts\n",
      "Retrying (Retry(total=0, connect=None, read=None, redirect=None, status=None)) after connection broken by 'NewConnectionError('<urllib3.connection.HTTPConnection object at 0x7f2c7f409710>: Failed to establish a new connection: [Errno 111] Connection refused',)': /api/v1alpha1/artifacts\n",
      "Retrying (Retry(total=2, connect=None, read=None, redirect=None, status=None)) after connection broken by 'NewConnectionError('<urllib3.connection.HTTPConnection object at 0x7f2c7f409da0>: Failed to establish a new connection: [Errno 111] Connection refused',)': /api/v1alpha1/artifacts\n",
      "Retrying (Retry(total=1, connect=None, read=None, redirect=None, status=None)) after connection broken by 'NewConnectionError('<urllib3.connection.HTTPConnection object at 0x7f2c7f409e80>: Failed to establish a new connection: [Errno 111] Connection refused',)': /api/v1alpha1/artifacts\n",
      "Retrying (Retry(total=0, connect=None, read=None, redirect=None, status=None)) after connection broken by 'NewConnectionError('<urllib3.connection.HTTPConnection object at 0x7f2c7f409f60>: Failed to establish a new connection: [Errno 111] Connection refused',)': /api/v1alpha1/artifacts\n",
      "Retrying (Retry(total=2, connect=None, read=None, redirect=None, status=None)) after connection broken by 'NewConnectionError('<urllib3.connection.HTTPConnection object at 0x7f2c7f41a630>: Failed to establish a new connection: [Errno 111] Connection refused',)': /api/v1alpha1/artifacts\n",
      "Retrying (Retry(total=1, connect=None, read=None, redirect=None, status=None)) after connection broken by 'NewConnectionError('<urllib3.connection.HTTPConnection object at 0x7f2c7f41a710>: Failed to establish a new connection: [Errno 111] Connection refused',)': /api/v1alpha1/artifacts\n",
      "Retrying (Retry(total=0, connect=None, read=None, redirect=None, status=None)) after connection broken by 'NewConnectionError('<urllib3.connection.HTTPConnection object at 0x7f2c7f409a20>: Failed to establish a new connection: [Errno 111] Connection refused',)': /api/v1alpha1/artifacts\n",
      "Retrying (Retry(total=2, connect=None, read=None, redirect=None, status=None)) after connection broken by 'NewConnectionError('<urllib3.connection.HTTPConnection object at 0x7f2c7f3ee278>: Failed to establish a new connection: [Errno 111] Connection refused',)': /api/v1alpha1/artifacts\n",
      "Retrying (Retry(total=1, connect=None, read=None, redirect=None, status=None)) after connection broken by 'NewConnectionError('<urllib3.connection.HTTPConnection object at 0x7f2c7f3ee048>: Failed to establish a new connection: [Errno 111] Connection refused',)': /api/v1alpha1/artifacts\n",
      "Retrying (Retry(total=0, connect=None, read=None, redirect=None, status=None)) after connection broken by 'NewConnectionError('<urllib3.connection.HTTPConnection object at 0x7f2c7f3ee208>: Failed to establish a new connection: [Errno 111] Connection refused',)': /api/v1alpha1/artifacts\n"
     ]
    },
    {
     "name": "stdout",
     "output_type": "stream",
     "text": [
      "Retrying (Retry(total=2, connect=None, read=None, redirect=None, status=None)) after connection broken by 'NewConnectionError('<urllib3.connection.HTTPConnection object at 0x7f2c7f3f4630>: Failed to establish a new connection: [Errno 111] Connection refused',)': /api/v1alpha1/artifacts\n",
      "Retrying (Retry(total=1, connect=None, read=None, redirect=None, status=None)) after connection broken by 'NewConnectionError('<urllib3.connection.HTTPConnection object at 0x7f2c7f3f4550>: Failed to establish a new connection: [Errno 111] Connection refused',)': /api/v1alpha1/artifacts\n",
      "Retrying (Retry(total=0, connect=None, read=None, redirect=None, status=None)) after connection broken by 'NewConnectionError('<urllib3.connection.HTTPConnection object at 0x7f2c7f41a828>: Failed to establish a new connection: [Errno 111] Connection refused',)': /api/v1alpha1/artifacts\n",
      "Retrying (Retry(total=2, connect=None, read=None, redirect=None, status=None)) after connection broken by 'NewConnectionError('<urllib3.connection.HTTPConnection object at 0x7f2c7f41ae80>: Failed to establish a new connection: [Errno 111] Connection refused',)': /api/v1alpha1/artifacts\n",
      "Retrying (Retry(total=1, connect=None, read=None, redirect=None, status=None)) after connection broken by 'NewConnectionError('<urllib3.connection.HTTPConnection object at 0x7f2c7f41af60>: Failed to establish a new connection: [Errno 111] Connection refused',)': /api/v1alpha1/artifacts\n",
      "Retrying (Retry(total=0, connect=None, read=None, redirect=None, status=None)) after connection broken by 'NewConnectionError('<urllib3.connection.HTTPConnection object at 0x7f2c7f4290b8>: Failed to establish a new connection: [Errno 111] Connection refused',)': /api/v1alpha1/artifacts\n",
      "Retrying (Retry(total=2, connect=None, read=None, redirect=None, status=None)) after connection broken by 'NewConnectionError('<urllib3.connection.HTTPConnection object at 0x7f2c7f41a908>: Failed to establish a new connection: [Errno 111] Connection refused',)': /api/v1alpha1/artifacts\n",
      "Retrying (Retry(total=1, connect=None, read=None, redirect=None, status=None)) after connection broken by 'NewConnectionError('<urllib3.connection.HTTPConnection object at 0x7f2c7f41a940>: Failed to establish a new connection: [Errno 111] Connection refused',)': /api/v1alpha1/artifacts\n",
      "Retrying (Retry(total=0, connect=None, read=None, redirect=None, status=None)) after connection broken by 'NewConnectionError('<urllib3.connection.HTTPConnection object at 0x7f2c7f41a208>: Failed to establish a new connection: [Errno 111] Connection refused',)': /api/v1alpha1/artifacts\n",
      "Retrying (Retry(total=2, connect=None, read=None, redirect=None, status=None)) after connection broken by 'NewConnectionError('<urllib3.connection.HTTPConnection object at 0x7f2c7f3eed30>: Failed to establish a new connection: [Errno 111] Connection refused',)': /api/v1alpha1/artifacts\n",
      "Retrying (Retry(total=1, connect=None, read=None, redirect=None, status=None)) after connection broken by 'NewConnectionError('<urllib3.connection.HTTPConnection object at 0x7f2c7f3ee208>: Failed to establish a new connection: [Errno 111] Connection refused',)': /api/v1alpha1/artifacts\n",
      "Retrying (Retry(total=0, connect=None, read=None, redirect=None, status=None)) after connection broken by 'NewConnectionError('<urllib3.connection.HTTPConnection object at 0x7f2c7f3eed68>: Failed to establish a new connection: [Errno 111] Connection refused',)': /api/v1alpha1/artifacts\n",
      "Retrying (Retry(total=2, connect=None, read=None, redirect=None, status=None)) after connection broken by 'NewConnectionError('<urllib3.connection.HTTPConnection object at 0x7f2c7f409668>: Failed to establish a new connection: [Errno 111] Connection refused',)': /api/v1alpha1/artifacts\n",
      "Retrying (Retry(total=1, connect=None, read=None, redirect=None, status=None)) after connection broken by 'NewConnectionError('<urllib3.connection.HTTPConnection object at 0x7f2c7f4096d8>: Failed to establish a new connection: [Errno 111] Connection refused',)': /api/v1alpha1/artifacts\n",
      "Retrying (Retry(total=0, connect=None, read=None, redirect=None, status=None)) after connection broken by 'NewConnectionError('<urllib3.connection.HTTPConnection object at 0x7f2c7f429710>: Failed to establish a new connection: [Errno 111] Connection refused',)': /api/v1alpha1/artifacts\n",
      "Retrying (Retry(total=2, connect=None, read=None, redirect=None, status=None)) after connection broken by 'NewConnectionError('<urllib3.connection.HTTPConnection object at 0x7f2c7f429d30>: Failed to establish a new connection: [Errno 111] Connection refused',)': /api/v1alpha1/artifacts\n",
      "Retrying (Retry(total=1, connect=None, read=None, redirect=None, status=None)) after connection broken by 'NewConnectionError('<urllib3.connection.HTTPConnection object at 0x7f2c7f429e10>: Failed to establish a new connection: [Errno 111] Connection refused',)': /api/v1alpha1/artifacts\n",
      "Retrying (Retry(total=0, connect=None, read=None, redirect=None, status=None)) after connection broken by 'NewConnectionError('<urllib3.connection.HTTPConnection object at 0x7f2c7f429ef0>: Failed to establish a new connection: [Errno 111] Connection refused',)': /api/v1alpha1/artifacts\n",
      "Retrying (Retry(total=2, connect=None, read=None, redirect=None, status=None)) after connection broken by 'NewConnectionError('<urllib3.connection.HTTPConnection object at 0x7f2c7f4292e8>: Failed to establish a new connection: [Errno 111] Connection refused',)': /api/v1alpha1/artifacts\n",
      "Retrying (Retry(total=1, connect=None, read=None, redirect=None, status=None)) after connection broken by 'NewConnectionError('<urllib3.connection.HTTPConnection object at 0x7f2c7f4097f0>: Failed to establish a new connection: [Errno 111] Connection refused',)': /api/v1alpha1/artifacts\n",
      "Retrying (Retry(total=0, connect=None, read=None, redirect=None, status=None)) after connection broken by 'NewConnectionError('<urllib3.connection.HTTPConnection object at 0x7f2c7f409668>: Failed to establish a new connection: [Errno 111] Connection refused',)': /api/v1alpha1/artifacts\n",
      "Retrying (Retry(total=2, connect=None, read=None, redirect=None, status=None)) after connection broken by 'NewConnectionError('<urllib3.connection.HTTPConnection object at 0x7f2c7f3ee0f0>: Failed to establish a new connection: [Errno 111] Connection refused',)': /api/v1alpha1/artifacts\n",
      "Retrying (Retry(total=1, connect=None, read=None, redirect=None, status=None)) after connection broken by 'NewConnectionError('<urllib3.connection.HTTPConnection object at 0x7f2c7f3ee0b8>: Failed to establish a new connection: [Errno 111] Connection refused',)': /api/v1alpha1/artifacts\n",
      "Retrying (Retry(total=0, connect=None, read=None, redirect=None, status=None)) after connection broken by 'NewConnectionError('<urllib3.connection.HTTPConnection object at 0x7f2c8e7a2e48>: Failed to establish a new connection: [Errno 111] Connection refused',)': /api/v1alpha1/artifacts\n",
      "Retrying (Retry(total=2, connect=None, read=None, redirect=None, status=None)) after connection broken by 'NewConnectionError('<urllib3.connection.HTTPConnection object at 0x7f2c7f41a7f0>: Failed to establish a new connection: [Errno 111] Connection refused',)': /api/v1alpha1/artifacts\n",
      "Retrying (Retry(total=1, connect=None, read=None, redirect=None, status=None)) after connection broken by 'NewConnectionError('<urllib3.connection.HTTPConnection object at 0x7f2c7f43b160>: Failed to establish a new connection: [Errno 111] Connection refused',)': /api/v1alpha1/artifacts\n",
      "Retrying (Retry(total=0, connect=None, read=None, redirect=None, status=None)) after connection broken by 'NewConnectionError('<urllib3.connection.HTTPConnection object at 0x7f2c7f43b470>: Failed to establish a new connection: [Errno 111] Connection refused',)': /api/v1alpha1/artifacts\n",
      "Retrying (Retry(total=2, connect=None, read=None, redirect=None, status=None)) after connection broken by 'NewConnectionError('<urllib3.connection.HTTPConnection object at 0x7f2c7f43ba90>: Failed to establish a new connection: [Errno 111] Connection refused',)': /api/v1alpha1/artifacts\n",
      "Retrying (Retry(total=1, connect=None, read=None, redirect=None, status=None)) after connection broken by 'NewConnectionError('<urllib3.connection.HTTPConnection object at 0x7f2c7f43bb70>: Failed to establish a new connection: [Errno 111] Connection refused',)': /api/v1alpha1/artifacts\n",
      "Retrying (Retry(total=0, connect=None, read=None, redirect=None, status=None)) after connection broken by 'NewConnectionError('<urllib3.connection.HTTPConnection object at 0x7f2c7f43bc50>: Failed to establish a new connection: [Errno 111] Connection refused',)': /api/v1alpha1/artifacts\n",
      "Retrying (Retry(total=2, connect=None, read=None, redirect=None, status=None)) after connection broken by 'NewConnectionError('<urllib3.connection.HTTPConnection object at 0x7f2c7f3ee0f0>: Failed to establish a new connection: [Errno 111] Connection refused',)': /api/v1alpha1/artifacts\n",
      "Retrying (Retry(total=1, connect=None, read=None, redirect=None, status=None)) after connection broken by 'NewConnectionError('<urllib3.connection.HTTPConnection object at 0x7f2c7f3ee400>: Failed to establish a new connection: [Errno 111] Connection refused',)': /api/v1alpha1/artifacts\n",
      "Retrying (Retry(total=0, connect=None, read=None, redirect=None, status=None)) after connection broken by 'NewConnectionError('<urllib3.connection.HTTPConnection object at 0x7f2c7f3ee208>: Failed to establish a new connection: [Errno 111] Connection refused',)': /api/v1alpha1/artifacts\n",
      "Retrying (Retry(total=2, connect=None, read=None, redirect=None, status=None)) after connection broken by 'NewConnectionError('<urllib3.connection.HTTPConnection object at 0x7f2c7f409668>: Failed to establish a new connection: [Errno 111] Connection refused',)': /api/v1alpha1/artifacts\n",
      "Retrying (Retry(total=1, connect=None, read=None, redirect=None, status=None)) after connection broken by 'NewConnectionError('<urllib3.connection.HTTPConnection object at 0x7f2c7f4097f0>: Failed to establish a new connection: [Errno 111] Connection refused',)': /api/v1alpha1/artifacts\n",
      "Retrying (Retry(total=0, connect=None, read=None, redirect=None, status=None)) after connection broken by 'NewConnectionError('<urllib3.connection.HTTPConnection object at 0x7f2c7f4098d0>: Failed to establish a new connection: [Errno 111] Connection refused',)': /api/v1alpha1/artifacts\n",
      "Retrying (Retry(total=2, connect=None, read=None, redirect=None, status=None)) after connection broken by 'NewConnectionError('<urllib3.connection.HTTPConnection object at 0x7f2c7f44a320>: Failed to establish a new connection: [Errno 111] Connection refused',)': /api/v1alpha1/artifacts\n",
      "Retrying (Retry(total=1, connect=None, read=None, redirect=None, status=None)) after connection broken by 'NewConnectionError('<urllib3.connection.HTTPConnection object at 0x7f2c7f44a400>: Failed to establish a new connection: [Errno 111] Connection refused',)': /api/v1alpha1/artifacts\n",
      "Retrying (Retry(total=0, connect=None, read=None, redirect=None, status=None)) after connection broken by 'NewConnectionError('<urllib3.connection.HTTPConnection object at 0x7f2c7f44a4e0>: Failed to establish a new connection: [Errno 111] Connection refused',)': /api/v1alpha1/artifacts\n"
     ]
    },
    {
     "name": "stdout",
     "output_type": "stream",
     "text": [
      "Retrying (Retry(total=2, connect=None, read=None, redirect=None, status=None)) after connection broken by 'NewConnectionError('<urllib3.connection.HTTPConnection object at 0x7f2c7f44ab70>: Failed to establish a new connection: [Errno 111] Connection refused',)': /api/v1alpha1/artifacts\n",
      "Retrying (Retry(total=1, connect=None, read=None, redirect=None, status=None)) after connection broken by 'NewConnectionError('<urllib3.connection.HTTPConnection object at 0x7f2c7f44ac50>: Failed to establish a new connection: [Errno 111] Connection refused',)': /api/v1alpha1/artifacts\n",
      "Retrying (Retry(total=0, connect=None, read=None, redirect=None, status=None)) after connection broken by 'NewConnectionError('<urllib3.connection.HTTPConnection object at 0x7f2c7f44ad30>: Failed to establish a new connection: [Errno 111] Connection refused',)': /api/v1alpha1/artifacts\n",
      "Retrying (Retry(total=2, connect=None, read=None, redirect=None, status=None)) after connection broken by 'NewConnectionError('<urllib3.connection.HTTPConnection object at 0x7f2c7f183198>: Failed to establish a new connection: [Errno 111] Connection refused',)': /api/v1alpha1/artifacts\n",
      "Retrying (Retry(total=1, connect=None, read=None, redirect=None, status=None)) after connection broken by 'NewConnectionError('<urllib3.connection.HTTPConnection object at 0x7f2c7f429748>: Failed to establish a new connection: [Errno 111] Connection refused',)': /api/v1alpha1/artifacts\n",
      "Retrying (Retry(total=0, connect=None, read=None, redirect=None, status=None)) after connection broken by 'NewConnectionError('<urllib3.connection.HTTPConnection object at 0x7f2c7f4299b0>: Failed to establish a new connection: [Errno 111] Connection refused',)': /api/v1alpha1/artifacts\n",
      "Retrying (Retry(total=2, connect=None, read=None, redirect=None, status=None)) after connection broken by 'NewConnectionError('<urllib3.connection.HTTPConnection object at 0x7f2c7f3fb358>: Failed to establish a new connection: [Errno 111] Connection refused',)': /api/v1alpha1/artifacts\n",
      "Retrying (Retry(total=1, connect=None, read=None, redirect=None, status=None)) after connection broken by 'NewConnectionError('<urllib3.connection.HTTPConnection object at 0x7f2c8e7a2860>: Failed to establish a new connection: [Errno 111] Connection refused',)': /api/v1alpha1/artifacts\n",
      "Retrying (Retry(total=0, connect=None, read=None, redirect=None, status=None)) after connection broken by 'NewConnectionError('<urllib3.connection.HTTPConnection object at 0x7f2c8e7a2f60>: Failed to establish a new connection: [Errno 111] Connection refused',)': /api/v1alpha1/artifacts\n",
      "Retrying (Retry(total=2, connect=None, read=None, redirect=None, status=None)) after connection broken by 'NewConnectionError('<urllib3.connection.HTTPConnection object at 0x7f2c7f45b400>: Failed to establish a new connection: [Errno 111] Connection refused',)': /api/v1alpha1/artifacts\n",
      "Retrying (Retry(total=1, connect=None, read=None, redirect=None, status=None)) after connection broken by 'NewConnectionError('<urllib3.connection.HTTPConnection object at 0x7f2c7f45b4e0>: Failed to establish a new connection: [Errno 111] Connection refused',)': /api/v1alpha1/artifacts\n",
      "Retrying (Retry(total=0, connect=None, read=None, redirect=None, status=None)) after connection broken by 'NewConnectionError('<urllib3.connection.HTTPConnection object at 0x7f2c7f45b5c0>: Failed to establish a new connection: [Errno 111] Connection refused',)': /api/v1alpha1/artifacts\n",
      "Retrying (Retry(total=2, connect=None, read=None, redirect=None, status=None)) after connection broken by 'NewConnectionError('<urllib3.connection.HTTPConnection object at 0x7f2c7f45bc50>: Failed to establish a new connection: [Errno 111] Connection refused',)': /api/v1alpha1/artifacts\n",
      "Retrying (Retry(total=1, connect=None, read=None, redirect=None, status=None)) after connection broken by 'NewConnectionError('<urllib3.connection.HTTPConnection object at 0x7f2c7f44ae48>: Failed to establish a new connection: [Errno 111] Connection refused',)': /api/v1alpha1/artifacts\n",
      "Retrying (Retry(total=0, connect=None, read=None, redirect=None, status=None)) after connection broken by 'NewConnectionError('<urllib3.connection.HTTPConnection object at 0x7f2c7f44ae80>: Failed to establish a new connection: [Errno 111] Connection refused',)': /api/v1alpha1/artifacts\n",
      "Retrying (Retry(total=2, connect=None, read=None, redirect=None, status=None)) after connection broken by 'NewConnectionError('<urllib3.connection.HTTPConnection object at 0x7f2c7f3ee208>: Failed to establish a new connection: [Errno 111] Connection refused',)': /api/v1alpha1/artifacts\n",
      "Retrying (Retry(total=1, connect=None, read=None, redirect=None, status=None)) after connection broken by 'NewConnectionError('<urllib3.connection.HTTPConnection object at 0x7f2c7f429940>: Failed to establish a new connection: [Errno 111] Connection refused',)': /api/v1alpha1/artifacts\n",
      "Retrying (Retry(total=0, connect=None, read=None, redirect=None, status=None)) after connection broken by 'NewConnectionError('<urllib3.connection.HTTPConnection object at 0x7f2c7f429978>: Failed to establish a new connection: [Errno 111] Connection refused',)': /api/v1alpha1/artifacts\n",
      "Retrying (Retry(total=2, connect=None, read=None, redirect=None, status=None)) after connection broken by 'NewConnectionError('<urllib3.connection.HTTPConnection object at 0x7f2c7f43b668>: Failed to establish a new connection: [Errno 111] Connection refused',)': /api/v1alpha1/artifacts\n",
      "Retrying (Retry(total=1, connect=None, read=None, redirect=None, status=None)) after connection broken by 'NewConnectionError('<urllib3.connection.HTTPConnection object at 0x7f2c7f45b828>: Failed to establish a new connection: [Errno 111] Connection refused',)': /api/v1alpha1/artifacts\n",
      "Retrying (Retry(total=0, connect=None, read=None, redirect=None, status=None)) after connection broken by 'NewConnectionError('<urllib3.connection.HTTPConnection object at 0x7f2c7f45bd30>: Failed to establish a new connection: [Errno 111] Connection refused',)': /api/v1alpha1/artifacts\n",
      "Retrying (Retry(total=2, connect=None, read=None, redirect=None, status=None)) after connection broken by 'NewConnectionError('<urllib3.connection.HTTPConnection object at 0x7f2c7f19a400>: Failed to establish a new connection: [Errno 111] Connection refused',)': /api/v1alpha1/artifacts\n",
      "Retrying (Retry(total=1, connect=None, read=None, redirect=None, status=None)) after connection broken by 'NewConnectionError('<urllib3.connection.HTTPConnection object at 0x7f2c7f19a4e0>: Failed to establish a new connection: [Errno 111] Connection refused',)': /api/v1alpha1/artifacts\n",
      "Retrying (Retry(total=0, connect=None, read=None, redirect=None, status=None)) after connection broken by 'NewConnectionError('<urllib3.connection.HTTPConnection object at 0x7f2c7f19a5c0>: Failed to establish a new connection: [Errno 111] Connection refused',)': /api/v1alpha1/artifacts\n",
      "Retrying (Retry(total=2, connect=None, read=None, redirect=None, status=None)) after connection broken by 'NewConnectionError('<urllib3.connection.HTTPConnection object at 0x7f2c7f45bef0>: Failed to establish a new connection: [Errno 111] Connection refused',)': /api/v1alpha1/artifacts\n",
      "Retrying (Retry(total=1, connect=None, read=None, redirect=None, status=None)) after connection broken by 'NewConnectionError('<urllib3.connection.HTTPConnection object at 0x7f2c7f45bdd8>: Failed to establish a new connection: [Errno 111] Connection refused',)': /api/v1alpha1/artifacts\n",
      "Retrying (Retry(total=0, connect=None, read=None, redirect=None, status=None)) after connection broken by 'NewConnectionError('<urllib3.connection.HTTPConnection object at 0x7f2c7f45bd68>: Failed to establish a new connection: [Errno 111] Connection refused',)': /api/v1alpha1/artifacts\n",
      "Retrying (Retry(total=2, connect=None, read=None, redirect=None, status=None)) after connection broken by 'NewConnectionError('<urllib3.connection.HTTPConnection object at 0x7f2c7f429940>: Failed to establish a new connection: [Errno 111] Connection refused',)': /api/v1alpha1/artifacts\n",
      "Retrying (Retry(total=1, connect=None, read=None, redirect=None, status=None)) after connection broken by 'NewConnectionError('<urllib3.connection.HTTPConnection object at 0x7f2c7f429710>: Failed to establish a new connection: [Errno 111] Connection refused',)': /api/v1alpha1/artifacts\n",
      "Retrying (Retry(total=0, connect=None, read=None, redirect=None, status=None)) after connection broken by 'NewConnectionError('<urllib3.connection.HTTPConnection object at 0x7f2c7f3ee208>: Failed to establish a new connection: [Errno 111] Connection refused',)': /api/v1alpha1/artifacts\n",
      "Retrying (Retry(total=2, connect=None, read=None, redirect=None, status=None)) after connection broken by 'NewConnectionError('<urllib3.connection.HTTPConnection object at 0x7f2c7f44aef0>: Failed to establish a new connection: [Errno 111] Connection refused',)': /api/v1alpha1/artifacts\n",
      "Retrying (Retry(total=1, connect=None, read=None, redirect=None, status=None)) after connection broken by 'NewConnectionError('<urllib3.connection.HTTPConnection object at 0x7f2c7f44acc0>: Failed to establish a new connection: [Errno 111] Connection refused',)': /api/v1alpha1/artifacts\n",
      "Retrying (Retry(total=0, connect=None, read=None, redirect=None, status=None)) after connection broken by 'NewConnectionError('<urllib3.connection.HTTPConnection object at 0x7f2c7f19aa90>: Failed to establish a new connection: [Errno 111] Connection refused',)': /api/v1alpha1/artifacts\n",
      "Retrying (Retry(total=2, connect=None, read=None, redirect=None, status=None)) after connection broken by 'NewConnectionError('<urllib3.connection.HTTPConnection object at 0x7f2c7f1ac160>: Failed to establish a new connection: [Errno 111] Connection refused',)': /api/v1alpha1/artifacts\n",
      "Retrying (Retry(total=1, connect=None, read=None, redirect=None, status=None)) after connection broken by 'NewConnectionError('<urllib3.connection.HTTPConnection object at 0x7f2c7f1ac240>: Failed to establish a new connection: [Errno 111] Connection refused',)': /api/v1alpha1/artifacts\n",
      "Retrying (Retry(total=0, connect=None, read=None, redirect=None, status=None)) after connection broken by 'NewConnectionError('<urllib3.connection.HTTPConnection object at 0x7f2c7f1ac320>: Failed to establish a new connection: [Errno 111] Connection refused',)': /api/v1alpha1/artifacts\n",
      "Retrying (Retry(total=2, connect=None, read=None, redirect=None, status=None)) after connection broken by 'NewConnectionError('<urllib3.connection.HTTPConnection object at 0x7f2c7f4297b8>: Failed to establish a new connection: [Errno 111] Connection refused',)': /api/v1alpha1/artifacts\n",
      "Retrying (Retry(total=1, connect=None, read=None, redirect=None, status=None)) after connection broken by 'NewConnectionError('<urllib3.connection.HTTPConnection object at 0x7f2c7f429978>: Failed to establish a new connection: [Errno 111] Connection refused',)': /api/v1alpha1/artifacts\n",
      "Retrying (Retry(total=0, connect=None, read=None, redirect=None, status=None)) after connection broken by 'NewConnectionError('<urllib3.connection.HTTPConnection object at 0x7f2c7f19a9e8>: Failed to establish a new connection: [Errno 111] Connection refused',)': /api/v1alpha1/artifacts\n",
      "Retrying (Retry(total=2, connect=None, read=None, redirect=None, status=None)) after connection broken by 'NewConnectionError('<urllib3.connection.HTTPConnection object at 0x7f2c7f43beb8>: Failed to establish a new connection: [Errno 111] Connection refused',)': /api/v1alpha1/artifacts\n"
     ]
    },
    {
     "name": "stdout",
     "output_type": "stream",
     "text": [
      "Retrying (Retry(total=1, connect=None, read=None, redirect=None, status=None)) after connection broken by 'NewConnectionError('<urllib3.connection.HTTPConnection object at 0x7f2c7f45be80>: Failed to establish a new connection: [Errno 111] Connection refused',)': /api/v1alpha1/artifacts\n",
      "Retrying (Retry(total=0, connect=None, read=None, redirect=None, status=None)) after connection broken by 'NewConnectionError('<urllib3.connection.HTTPConnection object at 0x7f2c7f45bd68>: Failed to establish a new connection: [Errno 111] Connection refused',)': /api/v1alpha1/artifacts\n",
      "Retrying (Retry(total=2, connect=None, read=None, redirect=None, status=None)) after connection broken by 'NewConnectionError('<urllib3.connection.HTTPConnection object at 0x7f2c7f1ac9b0>: Failed to establish a new connection: [Errno 111] Connection refused',)': /api/v1alpha1/artifacts\n",
      "Retrying (Retry(total=1, connect=None, read=None, redirect=None, status=None)) after connection broken by 'NewConnectionError('<urllib3.connection.HTTPConnection object at 0x7f2c7f1aca90>: Failed to establish a new connection: [Errno 111] Connection refused',)': /api/v1alpha1/artifacts\n",
      "Retrying (Retry(total=0, connect=None, read=None, redirect=None, status=None)) after connection broken by 'NewConnectionError('<urllib3.connection.HTTPConnection object at 0x7f2c7f1acb70>: Failed to establish a new connection: [Errno 111] Connection refused',)': /api/v1alpha1/artifacts\n",
      "Retrying (Retry(total=2, connect=None, read=None, redirect=None, status=None)) after connection broken by 'NewConnectionError('<urllib3.connection.HTTPConnection object at 0x7f2c7f1bd240>: Failed to establish a new connection: [Errno 111] Connection refused',)': /api/v1alpha1/artifacts\n",
      "Retrying (Retry(total=1, connect=None, read=None, redirect=None, status=None)) after connection broken by 'NewConnectionError('<urllib3.connection.HTTPConnection object at 0x7f2c7f1bd320>: Failed to establish a new connection: [Errno 111] Connection refused',)': /api/v1alpha1/artifacts\n",
      "Retrying (Retry(total=0, connect=None, read=None, redirect=None, status=None)) after connection broken by 'NewConnectionError('<urllib3.connection.HTTPConnection object at 0x7f2c7f1bd400>: Failed to establish a new connection: [Errno 111] Connection refused',)': /api/v1alpha1/artifacts\n",
      "Retrying (Retry(total=2, connect=None, read=None, redirect=None, status=None)) after connection broken by 'NewConnectionError('<urllib3.connection.HTTPConnection object at 0x7f2c7f409470>: Failed to establish a new connection: [Errno 111] Connection refused',)': /api/v1alpha1/artifacts\n",
      "Retrying (Retry(total=1, connect=None, read=None, redirect=None, status=None)) after connection broken by 'NewConnectionError('<urllib3.connection.HTTPConnection object at 0x7f2c7f409898>: Failed to establish a new connection: [Errno 111] Connection refused',)': /api/v1alpha1/artifacts\n",
      "Retrying (Retry(total=0, connect=None, read=None, redirect=None, status=None)) after connection broken by 'NewConnectionError('<urllib3.connection.HTTPConnection object at 0x7f2c7f409780>: Failed to establish a new connection: [Errno 111] Connection refused',)': /api/v1alpha1/artifacts\n",
      "Retrying (Retry(total=2, connect=None, read=None, redirect=None, status=None)) after connection broken by 'NewConnectionError('<urllib3.connection.HTTPConnection object at 0x7f2c7f3ee160>: Failed to establish a new connection: [Errno 111] Connection refused',)': /api/v1alpha1/artifacts\n",
      "Retrying (Retry(total=1, connect=None, read=None, redirect=None, status=None)) after connection broken by 'NewConnectionError('<urllib3.connection.HTTPConnection object at 0x7f2c7f3ee3c8>: Failed to establish a new connection: [Errno 111] Connection refused',)': /api/v1alpha1/artifacts\n",
      "Retrying (Retry(total=0, connect=None, read=None, redirect=None, status=None)) after connection broken by 'NewConnectionError('<urllib3.connection.HTTPConnection object at 0x7f2c7f3ee208>: Failed to establish a new connection: [Errno 111] Connection refused',)': /api/v1alpha1/artifacts\n",
      "Retrying (Retry(total=2, connect=None, read=None, redirect=None, status=None)) after connection broken by 'NewConnectionError('<urllib3.connection.HTTPConnection object at 0x7f2c7f1bda90>: Failed to establish a new connection: [Errno 111] Connection refused',)': /api/v1alpha1/artifacts\n",
      "Retrying (Retry(total=1, connect=None, read=None, redirect=None, status=None)) after connection broken by 'NewConnectionError('<urllib3.connection.HTTPConnection object at 0x7f2c7f1bdb70>: Failed to establish a new connection: [Errno 111] Connection refused',)': /api/v1alpha1/artifacts\n",
      "Retrying (Retry(total=0, connect=None, read=None, redirect=None, status=None)) after connection broken by 'NewConnectionError('<urllib3.connection.HTTPConnection object at 0x7f2c7f1bdc50>: Failed to establish a new connection: [Errno 111] Connection refused',)': /api/v1alpha1/artifacts\n",
      "Retrying (Retry(total=2, connect=None, read=None, redirect=None, status=None)) after connection broken by 'NewConnectionError('<urllib3.connection.HTTPConnection object at 0x7f2c7eada320>: Failed to establish a new connection: [Errno 111] Connection refused',)': /api/v1alpha1/artifacts\n",
      "Retrying (Retry(total=1, connect=None, read=None, redirect=None, status=None)) after connection broken by 'NewConnectionError('<urllib3.connection.HTTPConnection object at 0x7f2c7f1bd710>: Failed to establish a new connection: [Errno 111] Connection refused',)': /api/v1alpha1/artifacts\n",
      "Retrying (Retry(total=0, connect=None, read=None, redirect=None, status=None)) after connection broken by 'NewConnectionError('<urllib3.connection.HTTPConnection object at 0x7f2c7f1bd588>: Failed to establish a new connection: [Errno 111] Connection refused',)': /api/v1alpha1/artifacts\n",
      "Retrying (Retry(total=2, connect=None, read=None, redirect=None, status=None)) after connection broken by 'NewConnectionError('<urllib3.connection.HTTPConnection object at 0x7f2c7f1ac668>: Failed to establish a new connection: [Errno 111] Connection refused',)': /api/v1alpha1/artifacts\n",
      "Retrying (Retry(total=1, connect=None, read=None, redirect=None, status=None)) after connection broken by 'NewConnectionError('<urllib3.connection.HTTPConnection object at 0x7f2c7f1ac6d8>: Failed to establish a new connection: [Errno 111] Connection refused',)': /api/v1alpha1/artifacts\n",
      "Retrying (Retry(total=0, connect=None, read=None, redirect=None, status=None)) after connection broken by 'NewConnectionError('<urllib3.connection.HTTPConnection object at 0x7f2c7f1ac860>: Failed to establish a new connection: [Errno 111] Connection refused',)': /api/v1alpha1/artifacts\n",
      "Retrying (Retry(total=2, connect=None, read=None, redirect=None, status=None)) after connection broken by 'NewConnectionError('<urllib3.connection.HTTPConnection object at 0x7f2c7f1acfd0>: Failed to establish a new connection: [Errno 111] Connection refused',)': /api/v1alpha1/artifacts\n",
      "Retrying (Retry(total=1, connect=None, read=None, redirect=None, status=None)) after connection broken by 'NewConnectionError('<urllib3.connection.HTTPConnection object at 0x7f2c7f1ac198>: Failed to establish a new connection: [Errno 111] Connection refused',)': /api/v1alpha1/artifacts\n",
      "Retrying (Retry(total=0, connect=None, read=None, redirect=None, status=None)) after connection broken by 'NewConnectionError('<urllib3.connection.HTTPConnection object at 0x7f2c7f1ac278>: Failed to establish a new connection: [Errno 111] Connection refused',)': /api/v1alpha1/artifacts\n",
      "Retrying (Retry(total=2, connect=None, read=None, redirect=None, status=None)) after connection broken by 'NewConnectionError('<urllib3.connection.HTTPConnection object at 0x7f2c7f19ab70>: Failed to establish a new connection: [Errno 111] Connection refused',)': /api/v1alpha1/artifacts\n",
      "Retrying (Retry(total=1, connect=None, read=None, redirect=None, status=None)) after connection broken by 'NewConnectionError('<urllib3.connection.HTTPConnection object at 0x7f2c7f19aba8>: Failed to establish a new connection: [Errno 111] Connection refused',)': /api/v1alpha1/artifacts\n",
      "Retrying (Retry(total=0, connect=None, read=None, redirect=None, status=None)) after connection broken by 'NewConnectionError('<urllib3.connection.HTTPConnection object at 0x7f2c7f19ac88>: Failed to establish a new connection: [Errno 111] Connection refused',)': /api/v1alpha1/artifacts\n",
      "Retrying (Retry(total=2, connect=None, read=None, redirect=None, status=None)) after connection broken by 'NewConnectionError('<urllib3.connection.HTTPConnection object at 0x7f2c7f19a4e0>: Failed to establish a new connection: [Errno 111] Connection refused',)': /api/v1alpha1/artifacts\n",
      "Retrying (Retry(total=1, connect=None, read=None, redirect=None, status=None)) after connection broken by 'NewConnectionError('<urllib3.connection.HTTPConnection object at 0x7f2c7f19a748>: Failed to establish a new connection: [Errno 111] Connection refused',)': /api/v1alpha1/artifacts\n",
      "Retrying (Retry(total=0, connect=None, read=None, redirect=None, status=None)) after connection broken by 'NewConnectionError('<urllib3.connection.HTTPConnection object at 0x7f2c7f19a4a8>: Failed to establish a new connection: [Errno 111] Connection refused',)': /api/v1alpha1/artifacts\n",
      "Retrying (Retry(total=2, connect=None, read=None, redirect=None, status=None)) after connection broken by 'NewConnectionError('<urllib3.connection.HTTPConnection object at 0x7f2c7f1acef0>: Failed to establish a new connection: [Errno 111] Connection refused',)': /api/v1alpha1/artifacts\n",
      "Retrying (Retry(total=1, connect=None, read=None, redirect=None, status=None)) after connection broken by 'NewConnectionError('<urllib3.connection.HTTPConnection object at 0x7f2c7f1ac908>: Failed to establish a new connection: [Errno 111] Connection refused',)': /api/v1alpha1/artifacts\n",
      "Retrying (Retry(total=0, connect=None, read=None, redirect=None, status=None)) after connection broken by 'NewConnectionError('<urllib3.connection.HTTPConnection object at 0x7f2c7f1acb70>: Failed to establish a new connection: [Errno 111] Connection refused',)': /api/v1alpha1/artifacts\n",
      "Retrying (Retry(total=2, connect=None, read=None, redirect=None, status=None)) after connection broken by 'NewConnectionError('<urllib3.connection.HTTPConnection object at 0x7f2c7f1bd4a8>: Failed to establish a new connection: [Errno 111] Connection refused',)': /api/v1alpha1/artifacts\n",
      "Retrying (Retry(total=1, connect=None, read=None, redirect=None, status=None)) after connection broken by 'NewConnectionError('<urllib3.connection.HTTPConnection object at 0x7f2c7f1bd0b8>: Failed to establish a new connection: [Errno 111] Connection refused',)': /api/v1alpha1/artifacts\n",
      "Retrying (Retry(total=0, connect=None, read=None, redirect=None, status=None)) after connection broken by 'NewConnectionError('<urllib3.connection.HTTPConnection object at 0x7f2c7f1bdeb8>: Failed to establish a new connection: [Errno 111] Connection refused',)': /api/v1alpha1/artifacts\n",
      "Retrying (Retry(total=2, connect=None, read=None, redirect=None, status=None)) after connection broken by 'NewConnectionError('<urllib3.connection.HTTPConnection object at 0x7f2c7f19a2e8>: Failed to establish a new connection: [Errno 111] Connection refused',)': /api/v1alpha1/artifacts\n"
     ]
    },
    {
     "name": "stdout",
     "output_type": "stream",
     "text": [
      "Retrying (Retry(total=1, connect=None, read=None, redirect=None, status=None)) after connection broken by 'NewConnectionError('<urllib3.connection.HTTPConnection object at 0x7f2c7f45bdd8>: Failed to establish a new connection: [Errno 111] Connection refused',)': /api/v1alpha1/artifacts\n",
      "Retrying (Retry(total=0, connect=None, read=None, redirect=None, status=None)) after connection broken by 'NewConnectionError('<urllib3.connection.HTTPConnection object at 0x7f2c7f45bd68>: Failed to establish a new connection: [Errno 111] Connection refused',)': /api/v1alpha1/artifacts\n",
      "Retrying (Retry(total=2, connect=None, read=None, redirect=None, status=None)) after connection broken by 'NewConnectionError('<urllib3.connection.HTTPConnection object at 0x7f2c7f45b780>: Failed to establish a new connection: [Errno 111] Connection refused',)': /api/v1alpha1/artifacts\n",
      "Retrying (Retry(total=1, connect=None, read=None, redirect=None, status=None)) after connection broken by 'NewConnectionError('<urllib3.connection.HTTPConnection object at 0x7f2c7f45b710>: Failed to establish a new connection: [Errno 111] Connection refused',)': /api/v1alpha1/artifacts\n",
      "Retrying (Retry(total=0, connect=None, read=None, redirect=None, status=None)) after connection broken by 'NewConnectionError('<urllib3.connection.HTTPConnection object at 0x7f2c7f45b8d0>: Failed to establish a new connection: [Errno 111] Connection refused',)': /api/v1alpha1/artifacts\n",
      "Retrying (Retry(total=2, connect=None, read=None, redirect=None, status=None)) after connection broken by 'NewConnectionError('<urllib3.connection.HTTPConnection object at 0x7f2c7f1bd080>: Failed to establish a new connection: [Errno 111] Connection refused',)': /api/v1alpha1/artifacts\n",
      "Retrying (Retry(total=1, connect=None, read=None, redirect=None, status=None)) after connection broken by 'NewConnectionError('<urllib3.connection.HTTPConnection object at 0x7f2c7f1ac780>: Failed to establish a new connection: [Errno 111] Connection refused',)': /api/v1alpha1/artifacts\n",
      "Retrying (Retry(total=0, connect=None, read=None, redirect=None, status=None)) after connection broken by 'NewConnectionError('<urllib3.connection.HTTPConnection object at 0x7f2c7f1acda0>: Failed to establish a new connection: [Errno 111] Connection refused',)': /api/v1alpha1/artifacts\n",
      "Retrying (Retry(total=2, connect=None, read=None, redirect=None, status=None)) after connection broken by 'NewConnectionError('<urllib3.connection.HTTPConnection object at 0x7f2c7f1acef0>: Failed to establish a new connection: [Errno 111] Connection refused',)': /api/v1alpha1/artifacts\n",
      "Retrying (Retry(total=1, connect=None, read=None, redirect=None, status=None)) after connection broken by 'NewConnectionError('<urllib3.connection.HTTPConnection object at 0x7f2c7f1ac898>: Failed to establish a new connection: [Errno 111] Connection refused',)': /api/v1alpha1/artifacts\n",
      "Retrying (Retry(total=0, connect=None, read=None, redirect=None, status=None)) after connection broken by 'NewConnectionError('<urllib3.connection.HTTPConnection object at 0x7f2c7f1acf98>: Failed to establish a new connection: [Errno 111] Connection refused',)': /api/v1alpha1/artifacts\n",
      "Retrying (Retry(total=2, connect=None, read=None, redirect=None, status=None)) after connection broken by 'NewConnectionError('<urllib3.connection.HTTPConnection object at 0x7f2c7f45bac8>: Failed to establish a new connection: [Errno 111] Connection refused',)': /api/v1alpha1/artifacts\n",
      "Retrying (Retry(total=1, connect=None, read=None, redirect=None, status=None)) after connection broken by 'NewConnectionError('<urllib3.connection.HTTPConnection object at 0x7f2c7f44a748>: Failed to establish a new connection: [Errno 111] Connection refused',)': /api/v1alpha1/artifacts\n",
      "Retrying (Retry(total=0, connect=None, read=None, redirect=None, status=None)) after connection broken by 'NewConnectionError('<urllib3.connection.HTTPConnection object at 0x7f2c7f44acf8>: Failed to establish a new connection: [Errno 111] Connection refused',)': /api/v1alpha1/artifacts\n",
      "Retrying (Retry(total=2, connect=None, read=None, redirect=None, status=None)) after connection broken by 'NewConnectionError('<urllib3.connection.HTTPConnection object at 0x7f2c7f44a0b8>: Failed to establish a new connection: [Errno 111] Connection refused',)': /api/v1alpha1/artifacts\n",
      "Retrying (Retry(total=1, connect=None, read=None, redirect=None, status=None)) after connection broken by 'NewConnectionError('<urllib3.connection.HTTPConnection object at 0x7f2c7f44a5f8>: Failed to establish a new connection: [Errno 111] Connection refused',)': /api/v1alpha1/artifacts\n",
      "Retrying (Retry(total=0, connect=None, read=None, redirect=None, status=None)) after connection broken by 'NewConnectionError('<urllib3.connection.HTTPConnection object at 0x7f2c7f44a2b0>: Failed to establish a new connection: [Errno 111] Connection refused',)': /api/v1alpha1/artifacts\n",
      "Retrying (Retry(total=2, connect=None, read=None, redirect=None, status=None)) after connection broken by 'NewConnectionError('<urllib3.connection.HTTPConnection object at 0x7f2c7f1acf28>: Failed to establish a new connection: [Errno 111] Connection refused',)': /api/v1alpha1/artifacts\n",
      "Retrying (Retry(total=1, connect=None, read=None, redirect=None, status=None)) after connection broken by 'NewConnectionError('<urllib3.connection.HTTPConnection object at 0x7f2c7f1accc0>: Failed to establish a new connection: [Errno 111] Connection refused',)': /api/v1alpha1/artifacts\n",
      "Retrying (Retry(total=0, connect=None, read=None, redirect=None, status=None)) after connection broken by 'NewConnectionError('<urllib3.connection.HTTPConnection object at 0x7f2c7f1acc18>: Failed to establish a new connection: [Errno 111] Connection refused',)': /api/v1alpha1/artifacts\n",
      "Retrying (Retry(total=2, connect=None, read=None, redirect=None, status=None)) after connection broken by 'NewConnectionError('<urllib3.connection.HTTPConnection object at 0x7f2c7f1bd4e0>: Failed to establish a new connection: [Errno 111] Connection refused',)': /api/v1alpha1/artifacts\n",
      "Retrying (Retry(total=1, connect=None, read=None, redirect=None, status=None)) after connection broken by 'NewConnectionError('<urllib3.connection.HTTPConnection object at 0x7f2c7f1bd128>: Failed to establish a new connection: [Errno 111] Connection refused',)': /api/v1alpha1/artifacts\n",
      "Retrying (Retry(total=0, connect=None, read=None, redirect=None, status=None)) after connection broken by 'NewConnectionError('<urllib3.connection.HTTPConnection object at 0x7f2c7f1bd2b0>: Failed to establish a new connection: [Errno 111] Connection refused',)': /api/v1alpha1/artifacts\n",
      "Retrying (Retry(total=2, connect=None, read=None, redirect=None, status=None)) after connection broken by 'NewConnectionError('<urllib3.connection.HTTPConnection object at 0x7f2c7f44a860>: Failed to establish a new connection: [Errno 111] Connection refused',)': /api/v1alpha1/artifacts\n",
      "Retrying (Retry(total=1, connect=None, read=None, redirect=None, status=None)) after connection broken by 'NewConnectionError('<urllib3.connection.HTTPConnection object at 0x7f2c7f3f4630>: Failed to establish a new connection: [Errno 111] Connection refused',)': /api/v1alpha1/artifacts\n",
      "Retrying (Retry(total=0, connect=None, read=None, redirect=None, status=None)) after connection broken by 'NewConnectionError('<urllib3.connection.HTTPConnection object at 0x7f2c7f3f4518>: Failed to establish a new connection: [Errno 111] Connection refused',)': /api/v1alpha1/artifacts\n",
      "Retrying (Retry(total=2, connect=None, read=None, redirect=None, status=None)) after connection broken by 'NewConnectionError('<urllib3.connection.HTTPConnection object at 0x7f2c7f43b748>: Failed to establish a new connection: [Errno 111] Connection refused',)': /api/v1alpha1/artifacts\n",
      "Retrying (Retry(total=1, connect=None, read=None, redirect=None, status=None)) after connection broken by 'NewConnectionError('<urllib3.connection.HTTPConnection object at 0x7f2c7f43bd68>: Failed to establish a new connection: [Errno 111] Connection refused',)': /api/v1alpha1/artifacts\n",
      "Retrying (Retry(total=0, connect=None, read=None, redirect=None, status=None)) after connection broken by 'NewConnectionError('<urllib3.connection.HTTPConnection object at 0x7f2c7f43bc18>: Failed to establish a new connection: [Errno 111] Connection refused',)': /api/v1alpha1/artifacts\n",
      "Retrying (Retry(total=2, connect=None, read=None, redirect=None, status=None)) after connection broken by 'NewConnectionError('<urllib3.connection.HTTPConnection object at 0x7f2c7f1bd0b8>: Failed to establish a new connection: [Errno 111] Connection refused',)': /api/v1alpha1/artifacts\n",
      "Retrying (Retry(total=1, connect=None, read=None, redirect=None, status=None)) after connection broken by 'NewConnectionError('<urllib3.connection.HTTPConnection object at 0x7f2c7f1acac8>: Failed to establish a new connection: [Errno 111] Connection refused',)': /api/v1alpha1/artifacts\n",
      "Retrying (Retry(total=0, connect=None, read=None, redirect=None, status=None)) after connection broken by 'NewConnectionError('<urllib3.connection.HTTPConnection object at 0x7f2c7f1ac9e8>: Failed to establish a new connection: [Errno 111] Connection refused',)': /api/v1alpha1/artifacts\n",
      "Retrying (Retry(total=2, connect=None, read=None, redirect=None, status=None)) after connection broken by 'NewConnectionError('<urllib3.connection.HTTPConnection object at 0x7f2c7f1acfd0>: Failed to establish a new connection: [Errno 111] Connection refused',)': /api/v1alpha1/artifacts\n",
      "Retrying (Retry(total=1, connect=None, read=None, redirect=None, status=None)) after connection broken by 'NewConnectionError('<urllib3.connection.HTTPConnection object at 0x7f2c7f1ac358>: Failed to establish a new connection: [Errno 111] Connection refused',)': /api/v1alpha1/artifacts\n",
      "Retrying (Retry(total=0, connect=None, read=None, redirect=None, status=None)) after connection broken by 'NewConnectionError('<urllib3.connection.HTTPConnection object at 0x7f2c7f1acb70>: Failed to establish a new connection: [Errno 111] Connection refused',)': /api/v1alpha1/artifacts\n",
      "Retrying (Retry(total=2, connect=None, read=None, redirect=None, status=None)) after connection broken by 'NewConnectionError('<urllib3.connection.HTTPConnection object at 0x7f2c7f43b828>: Failed to establish a new connection: [Errno 111] Connection refused',)': /api/v1alpha1/artifacts\n",
      "Retrying (Retry(total=1, connect=None, read=None, redirect=None, status=None)) after connection broken by 'NewConnectionError('<urllib3.connection.HTTPConnection object at 0x7f2c7f43b0f0>: Failed to establish a new connection: [Errno 111] Connection refused',)': /api/v1alpha1/artifacts\n"
     ]
    },
    {
     "name": "stdout",
     "output_type": "stream",
     "text": [
      "Retrying (Retry(total=0, connect=None, read=None, redirect=None, status=None)) after connection broken by 'NewConnectionError('<urllib3.connection.HTTPConnection object at 0x7f2c8e7a2dd8>: Failed to establish a new connection: [Errno 111] Connection refused',)': /api/v1alpha1/artifacts\n",
      "Retrying (Retry(total=2, connect=None, read=None, redirect=None, status=None)) after connection broken by 'NewConnectionError('<urllib3.connection.HTTPConnection object at 0x7f2c7f429a58>: Failed to establish a new connection: [Errno 111] Connection refused',)': /api/v1alpha1/artifacts\n",
      "Retrying (Retry(total=1, connect=None, read=None, redirect=None, status=None)) after connection broken by 'NewConnectionError('<urllib3.connection.HTTPConnection object at 0x7f2c7f429be0>: Failed to establish a new connection: [Errno 111] Connection refused',)': /api/v1alpha1/artifacts\n",
      "Retrying (Retry(total=0, connect=None, read=None, redirect=None, status=None)) after connection broken by 'NewConnectionError('<urllib3.connection.HTTPConnection object at 0x7f2c7f429e10>: Failed to establish a new connection: [Errno 111] Connection refused',)': /api/v1alpha1/artifacts\n",
      "Retrying (Retry(total=2, connect=None, read=None, redirect=None, status=None)) after connection broken by 'NewConnectionError('<urllib3.connection.HTTPConnection object at 0x7f2c7f1ac240>: Failed to establish a new connection: [Errno 111] Connection refused',)': /api/v1alpha1/artifacts\n",
      "Retrying (Retry(total=1, connect=None, read=None, redirect=None, status=None)) after connection broken by 'NewConnectionError('<urllib3.connection.HTTPConnection object at 0x7f2c7f1ac6a0>: Failed to establish a new connection: [Errno 111] Connection refused',)': /api/v1alpha1/artifacts\n",
      "Retrying (Retry(total=0, connect=None, read=None, redirect=None, status=None)) after connection broken by 'NewConnectionError('<urllib3.connection.HTTPConnection object at 0x7f2c7f1ac390>: Failed to establish a new connection: [Errno 111] Connection refused',)': /api/v1alpha1/artifacts\n",
      "Retrying (Retry(total=2, connect=None, read=None, redirect=None, status=None)) after connection broken by 'NewConnectionError('<urllib3.connection.HTTPConnection object at 0x7f2c7f1bd208>: Failed to establish a new connection: [Errno 111] Connection refused',)': /api/v1alpha1/artifacts\n",
      "Retrying (Retry(total=1, connect=None, read=None, redirect=None, status=None)) after connection broken by 'NewConnectionError('<urllib3.connection.HTTPConnection object at 0x7f2c7f1bd4a8>: Failed to establish a new connection: [Errno 111] Connection refused',)': /api/v1alpha1/artifacts\n",
      "model_file not supplied; using the default\n",
      "model_file=mockup-model.dat\n",
      "[0]\tvalidation_0-rmse:59.3748\n",
      "Will train until validation_0-rmse hasn't improved in 40 rounds.\n",
      "[1]\tvalidation_0-rmse:56.4246\n",
      "[2]\tvalidation_0-rmse:53.5249\n",
      "[3]\tvalidation_0-rmse:51.7888\n",
      "[4]\tvalidation_0-rmse:48.9903\n",
      "[5]\tvalidation_0-rmse:47.4857\n",
      "[6]\tvalidation_0-rmse:46.564\n",
      "[7]\tvalidation_0-rmse:44.2744\n",
      "[8]\tvalidation_0-rmse:43.2252\n",
      "[9]\tvalidation_0-rmse:42.5759\n",
      "[10]\tvalidation_0-rmse:41.3183\n",
      "[11]\tvalidation_0-rmse:41.0608\n",
      "[12]\tvalidation_0-rmse:40.3742\n",
      "[13]\tvalidation_0-rmse:38.9599\n",
      "[14]\tvalidation_0-rmse:38.7041\n",
      "[15]\tvalidation_0-rmse:38.2264\n",
      "[16]\tvalidation_0-rmse:37.6328\n",
      "[17]\tvalidation_0-rmse:36.8174\n",
      "[18]\tvalidation_0-rmse:36.1584\n",
      "[19]\tvalidation_0-rmse:35.6093\n",
      "[20]\tvalidation_0-rmse:35.1863\n",
      "[21]\tvalidation_0-rmse:34.4079\n",
      "[22]\tvalidation_0-rmse:33.8019\n",
      "[23]\tvalidation_0-rmse:33.2166\n",
      "[24]\tvalidation_0-rmse:32.6332\n",
      "[25]\tvalidation_0-rmse:32.1294\n",
      "[26]\tvalidation_0-rmse:31.9645\n",
      "[27]\tvalidation_0-rmse:31.8092\n",
      "[28]\tvalidation_0-rmse:31.6279\n",
      "[29]\tvalidation_0-rmse:31.3611\n",
      "[30]\tvalidation_0-rmse:31.1389\n",
      "[31]\tvalidation_0-rmse:30.9171\n",
      "[32]\tvalidation_0-rmse:30.6307\n",
      "[33]\tvalidation_0-rmse:30.5204\n",
      "[34]\tvalidation_0-rmse:30.0529\n",
      "[35]\tvalidation_0-rmse:29.8522\n",
      "[36]\tvalidation_0-rmse:29.5658\n",
      "[37]\tvalidation_0-rmse:29.356\n",
      "[38]\tvalidation_0-rmse:29.2155\n",
      "[39]\tvalidation_0-rmse:28.8807\n",
      "[40]\tvalidation_0-rmse:28.6828\n",
      "[41]\tvalidation_0-rmse:28.4021\n",
      "[42]\tvalidation_0-rmse:28.2826\n",
      "[43]\tvalidation_0-rmse:28.112\n",
      "[44]\tvalidation_0-rmse:27.9653\n",
      "[45]\tvalidation_0-rmse:27.8206\n",
      "[46]\tvalidation_0-rmse:27.5983\n",
      "[47]\tvalidation_0-rmse:27.4808\n",
      "[48]\tvalidation_0-rmse:27.5347\n",
      "[49]\tvalidation_0-rmse:27.3884\n",
      "mean_absolute_error=18.75\n",
      "Model export success: mockup-model.dat\n",
      "Best RMSE on eval: %.2f with %d rounds 27.388401 50\n"
     ]
    }
   ],
   "source": [
    "pod_spec = builder.generate_pod_spec()\n",
    "train_deployer = job.job.Job(cleanup=False,\n",
    "                             pod_spec_mutators=[\n",
    "                             fairing.cloud.gcp.add_gcp_credentials_if_exists])\n",
    "\n",
    "# Add command line arguments\n",
    "pod_spec.containers[0].command.extend([\"train\"])\n",
    "result = train_deployer.deploy(pod_spec)"
   ]
  },
  {
   "cell_type": "markdown",
   "metadata": {},
   "source": [
    "* You can use kubectl to inspect the job that fairing created"
   ]
  },
  {
   "cell_type": "code",
   "execution_count": 18,
   "metadata": {},
   "outputs": [
    {
     "name": "stdout",
     "output_type": "stream",
     "text": [
      "apiVersion: v1\r\n",
      "items:\r\n",
      "- apiVersion: batch/v1\r\n",
      "  kind: Job\r\n",
      "  metadata:\r\n",
      "    creationTimestamp: \"2019-09-12T04:38:29Z\"\r\n",
      "    generateName: fairing-job-\r\n",
      "    labels:\r\n",
      "      fairing-deployer: job\r\n",
      "      fairing-id: 2b17f22a-d517-11e9-b95f-f6ae68c06c0f\r\n",
      "    name: fairing-job-x8sbq\r\n",
      "    namespace: jlewi-kf\r\n",
      "    resourceVersion: \"1042157\"\r\n",
      "    selfLink: /apis/batch/v1/namespaces/jlewi-kf/jobs/fairing-job-x8sbq\r\n",
      "    uid: 2b1ca4d7-d517-11e9-a836-42010a8e00aa\r\n",
      "  spec:\r\n",
      "    backoffLimit: 0\r\n",
      "    completions: 1\r\n",
      "    parallelism: 1\r\n",
      "    selector:\r\n",
      "      matchLabels:\r\n",
      "        controller-uid: 2b1ca4d7-d517-11e9-a836-42010a8e00aa\r\n",
      "    template:\r\n",
      "      metadata:\r\n",
      "        creationTimestamp: null\r\n",
      "        labels:\r\n",
      "          controller-uid: 2b1ca4d7-d517-11e9-a836-42010a8e00aa\r\n",
      "          fairing-deployer: job\r\n",
      "          fairing-id: 2b17f22a-d517-11e9-b95f-f6ae68c06c0f\r\n",
      "          job-name: fairing-job-x8sbq\r\n",
      "        name: fairing-deployer\r\n",
      "      spec:\r\n",
      "        containers:\r\n",
      "        - command:\r\n",
      "          - python\r\n",
      "          - /app/build-train-deploy.py\r\n",
      "          - train\r\n",
      "          env:\r\n",
      "          - name: FAIRING_RUNTIME\r\n",
      "            value: \"1\"\r\n",
      "          - name: GOOGLE_APPLICATION_CREDENTIALS\r\n",
      "            value: /etc/secrets/user-gcp-sa.json\r\n",
      "          image: gcr.io/jlewi-dev/fairing-job/fairing-job:74E59C19\r\n",
      "          imagePullPolicy: IfNotPresent\r\n",
      "          name: fairing-job\r\n",
      "          resources: {}\r\n",
      "          securityContext:\r\n",
      "            runAsUser: 0\r\n",
      "          terminationMessagePath: /dev/termination-log\r\n",
      "          terminationMessagePolicy: File\r\n",
      "          volumeMounts:\r\n",
      "          - mountPath: /etc/secrets\r\n",
      "            name: user-gcp-sa\r\n",
      "            readOnly: true\r\n",
      "          workingDir: /app/\r\n",
      "        dnsPolicy: ClusterFirst\r\n",
      "        restartPolicy: Never\r\n",
      "        schedulerName: default-scheduler\r\n",
      "        securityContext: {}\r\n",
      "        terminationGracePeriodSeconds: 30\r\n",
      "        volumes:\r\n",
      "        - name: user-gcp-sa\r\n",
      "          secret:\r\n",
      "            defaultMode: 420\r\n",
      "            secretName: user-gcp-sa\r\n",
      "  status:\r\n",
      "    active: 1\r\n",
      "    startTime: \"2019-09-12T04:38:29Z\"\r\n",
      "kind: List\r\n",
      "metadata:\r\n",
      "  resourceVersion: \"\"\r\n",
      "  selfLink: \"\"\r\n"
     ]
    }
   ],
   "source": [
    "!kubectl get jobs -l fairing-id={train_deployer.job_id} -o yaml"
   ]
  },
  {
   "cell_type": "markdown",
   "metadata": {},
   "source": [
    "## Do hyperparameter tuning\n",
    "\n",
    "* Run hyperparameter tuning on the model."
   ]
  },
  {
   "cell_type": "markdown",
   "metadata": {},
   "source": [
    "* Define the hypterparameter tuning Job\n",
    "* Spec for [Experiment](https://github.com/kubeflow/katib/blob/d57109455ec6e64d64d81d210d64b97156b468d9/pkg/apis/controller/experiments/v1alpha2/experiment_types.go#L24)"
   ]
  },
  {
   "cell_type": "code",
   "execution_count": 99,
   "metadata": {},
   "outputs": [
    {
     "data": {
      "text/plain": [
       "'gcr.io/jlewi-dev/fairing-job/fairing-job:82C84ACE'"
      ]
     },
     "execution_count": 99,
     "metadata": {},
     "output_type": "execute_result"
    }
   ],
   "source": [
    "builder.image_tag"
   ]
  },
  {
   "cell_type": "code",
   "execution_count": 101,
   "metadata": {},
   "outputs": [
    {
     "data": {
      "text/plain": [
       "'build-train-deploy.py'"
      ]
     },
     "execution_count": 101,
     "metadata": {},
     "output_type": "execute_result"
    }
   ],
   "source": [
    "preprocessor.executable.name"
   ]
  },
  {
   "cell_type": "code",
   "execution_count": 113,
   "metadata": {},
   "outputs": [
    {
     "name": "stderr",
     "output_type": "stream",
     "text": [
      "/opt/conda/lib/python3.6/site-packages/ipykernel_launcher.py:64: YAMLLoadWarning: calling yaml.load() without Loader=... is deprecated, as the default Loader is unsafe. Please read https://msg.pyyaml.org/load for full details.\n"
     ]
    }
   ],
   "source": [
    "hp_experiment_raw = \"\"\"\n",
    "apiVersion: \"kubeflow.org/v1alpha2\"\n",
    "kind: Experiment\n",
    "metadata:  \n",
    "  labels:\n",
    "    example: xgboost-demo\n",
    "spec:\n",
    "  parallelTrialCount: 3\n",
    "  maxTrialCount: 3\n",
    "  maxFailedTrialCount: 3\n",
    "  objective:\n",
    "    type: maximize\n",
    "    goal: 0.99\n",
    "    objectiveMetricName: Validation-accuracy\n",
    "    additionalMetricNames:\n",
    "      - accuracy\n",
    "  algorithm:\n",
    "    algorithmName: random\n",
    "  trialTemplate:\n",
    "    goTemplate:\n",
    "      rawTemplate: \"\"\n",
    "  parameters:\n",
    "    - name: --num-layers\n",
    "      parameterType: int\n",
    "      feasibleSpace:\n",
    "        min: \"1\"\n",
    "        max: \"4\"\n",
    "\"\"\"        \n",
    "\n",
    "# The batch job that will be launched on each trial\n",
    "# \n",
    "trial_job_raw = \"\"\"apiVersion: batch/v1\n",
    "kind: Job\n",
    "metadata:\n",
    "  name: {{.Trial}}\n",
    "  namespace: {{.NameSpace}}\n",
    "  labels:\n",
    "    demo: xgboost\n",
    "    hpjob: xgboost\n",
    "spec:\n",
    "  template:\n",
    "    metadata:\n",
    "      annotations:\n",
    "        sidecar.istio.io/inject: \"false\"\n",
    "    spec:\n",
    "      containers:\n",
    "      - name: {{.Trial}}\n",
    "        image: gcr.io/jlewi-dev/fairing-job/fairing-job:A2EFFE46\n",
    "        workingDir: /app\n",
    "        command:\n",
    "        - \"python\"\n",
    "        - \"build-train-deploy.py\"\n",
    "        - train\n",
    "        - \"--batch-size=64\"\n",
    "        {{- with .HyperParameters}}\n",
    "        {{- range .}}\n",
    "        - \"{{.Name}}={{.Value}}\"\n",
    "        {{- end}}\n",
    "        {{- end}}\n",
    "      restartPolicy: Never\n",
    "\"\"\"\n",
    "\n",
    "# format messes up escaping because the curly braces get replaced.\n",
    "# trial_job = trial_job_raw.format(image=builder.image_tag)\n",
    "hp_experiment = yaml.load(hp_experiment_raw)\n",
    "hp_experiment[\"metadata\"][\"namespace\"] = fairing.utils.get_current_k8s_namespace()\n",
    "\n",
    "hp_experiment[\"spec\"][\"trialTemplate\"][\"goTemplate\"][\"rawTemplate\"] = trial_job_raw\n",
    "\n",
    "# Set the name for the job\n",
    "\n",
    "import datetime\n",
    "now = datetime.datetime.now().strftime(\"%y%m%d-%H%M%S\")\n",
    "hp_experiment[\"metadata\"][\"name\"] = \"xgboost-{0}\".format(now)"
   ]
  },
  {
   "cell_type": "code",
   "execution_count": 114,
   "metadata": {},
   "outputs": [],
   "source": [
    "client = k8s_client.ApiClient()\n",
    "crd_api = k8s_client.CustomObjectsApi(client)\n",
    "\n",
    "group, version = hp_experiment['apiVersion'].split('/')\n",
    "#print(yaml.safe_dump(hp_experiment))\n",
    "\n",
    "\n",
    "result = crd_api.create_namespaced_custom_object(\n",
    "  group=group,\n",
    "  version=version,\n",
    "  namespace=hp_experiment[\"metadata\"][\"namespace\"],\n",
    "  plural='experiments',\n",
    "  body=hp_experiment)\n"
   ]
  },
  {
   "cell_type": "code",
   "execution_count": 65,
   "metadata": {},
   "outputs": [],
   "source": [
    "result = crd_api.get_namespaced_custom_object(\n",
    "  group=group,\n",
    "  version=version,\n",
    "  namespace=hp_experiment[\"metadata\"][\"namespace\"],\n",
    "  plural='experiments',\n",
    "  name=\"random-experiment\")\n"
   ]
  },
  {
   "cell_type": "code",
   "execution_count": 88,
   "metadata": {},
   "outputs": [
    {
     "name": "stdout",
     "output_type": "stream",
     "text": [
      "goTemplate:\n",
      "  rawTemplate: \"apiVersion: batch/v1\\nkind: Job\\nmetadata:\\n  name: {.Trial}\\n  namespace:\\\n",
      "    \\ {.NameSpace}\\nspec:\\n  template:\\n    spec:\\n      containers:\\n      - name:\\\n",
      "    \\ {.Trial}\\n        image: gcr.io/jlewi-dev/fairing-job/fairing-job:503200D3\\n\\\n",
      "    \\        command:\\n        - \\\"python\\\"\\n        - \\\"/mxnet/example/image-classification/train_mnist.py\\\"\\\n",
      "    \\n        - \\\"--batch-size=64\\\"\\n        {- with .HyperParameters}\\n        {-\\\n",
      "    \\ range .}\\n        - \\\"{.Name}={.Value}\\\"\\n        {- end}\\n        {- end}\\n\\\n",
      "    \\      restartPolicy: Never\\n\"\n",
      "\n"
     ]
    }
   ],
   "source": [
    "print(yaml.safe_dump(hp_experiment[\"spec\"][\"trialTemplate\"]))"
   ]
  },
  {
   "cell_type": "code",
   "execution_count": 79,
   "metadata": {},
   "outputs": [
    {
     "name": "stdout",
     "output_type": "stream",
     "text": [
      "goTemplate:\n",
      "  rawTemplate: \"apiVersion: batch/v1\\nkind: Job\\nmetadata:\\n  name: {{.Trial}}\\n \\\n",
      "    \\ namespace: {{.NameSpace}}\\nspec:\\n  template:\\n    spec:\\n      containers:\\n\\\n",
      "    \\      - name: {{.Trial}}\\n        image: katib/mxnet-mnist-example\\n        command:\\n\\\n",
      "    \\        - \\\"python\\\"\\n        - \\\"/mxnet/example/image-classification/train_mnist.py\\\"\\\n",
      "    \\n        - \\\"--batch-size=64\\\"\\n        {{- with .HyperParameters}}\\n       \\\n",
      "    \\ {{- range .}}\\n        - \\\"{{.Name}}={{.Value}}\\\"\\n        {{- end}}\\n     \\\n",
      "    \\   {{- end}}\\n      restartPolicy: Never\"\n",
      "\n"
     ]
    }
   ],
   "source": [
    "print(yaml.safe_dump(result[\"spec\"][\"trialTemplate\"]))"
   ]
  },
  {
   "cell_type": "markdown",
   "metadata": {},
   "source": [
    "## Deploy the trained model to Kubeflow for predictions"
   ]
  },
  {
   "cell_type": "markdown",
   "metadata": {},
   "source": [
    "* Now that you have trained a model you can use fairing to deploy it on Kubernetes\n",
    "* When you call deployer.deploy fairing will create a [Kubernetes Deployment](https://kubernetes.io/docs/concepts/workloads/controllers/deployment/) to serve your model\n",
    "* Fairing uses the docker image you created earlier\n",
    "* The docker image you created contains your code and [Seldon core](https://www.seldon.io/)\n",
    "* Fairing uses Seldon to wrap your prediction code, ModelServe.predict, in a REST and gRPC server"
   ]
  },
  {
   "cell_type": "code",
   "execution_count": 19,
   "metadata": {},
   "outputs": [
    {
     "name": "stderr",
     "output_type": "stream",
     "text": [
      "Cluster endpoint: http://fairing-service-2522n.jlewi-kf.svc.cluster.local\n"
     ]
    }
   ],
   "source": [
    "from fairing.deployers import serving\n",
    "pod_spec = builder.generate_pod_spec()\n",
    "\n",
    "module_name = os.path.splitext(preprocessor.executable.name)[0]\n",
    "deployer = serving.serving.Serving(module_name + \".ModelServe\",\n",
    "                                   service_type=\"ClusterIP\",\n",
    "                                   labels={\"app\": \"mockup\"})\n",
    "    \n",
    "url = deployer.deploy(pod_spec)"
   ]
  },
  {
   "cell_type": "markdown",
   "metadata": {},
   "source": [
    "* You can use kubectl to inspect the deployment that fairing created"
   ]
  },
  {
   "cell_type": "code",
   "execution_count": 20,
   "metadata": {},
   "outputs": [
    {
     "name": "stdout",
     "output_type": "stream",
     "text": [
      "apiVersion: extensions/v1beta1\r\n",
      "kind: Deployment\r\n",
      "metadata:\r\n",
      "  annotations:\r\n",
      "    deployment.kubernetes.io/revision: \"1\"\r\n",
      "  creationTimestamp: \"2019-09-12T04:41:07Z\"\r\n",
      "  generateName: fairing-deployer-\r\n",
      "  generation: 1\r\n",
      "  labels:\r\n",
      "    app: mockup\r\n",
      "    fairing-deployer: serving\r\n",
      "    fairing-id: 89159f80-d517-11e9-b95f-f6ae68c06c0f\r\n",
      "  name: fairing-deployer-94ns7\r\n",
      "  namespace: jlewi-kf\r\n",
      "  resourceVersion: \"1043015\"\r\n",
      "  selfLink: /apis/extensions/v1beta1/namespaces/jlewi-kf/deployments/fairing-deployer-94ns7\r\n",
      "  uid: 891925d1-d517-11e9-a836-42010a8e00aa\r\n",
      "spec:\r\n",
      "  progressDeadlineSeconds: 600\r\n",
      "  replicas: 1\r\n",
      "  revisionHistoryLimit: 10\r\n",
      "  selector:\r\n",
      "    matchLabels:\r\n",
      "      app: mockup\r\n",
      "      fairing-deployer: serving\r\n",
      "      fairing-id: 89159f80-d517-11e9-b95f-f6ae68c06c0f\r\n",
      "  strategy:\r\n",
      "    rollingUpdate:\r\n",
      "      maxSurge: 25%\r\n",
      "      maxUnavailable: 25%\r\n",
      "    type: RollingUpdate\r\n",
      "  template:\r\n",
      "    metadata:\r\n",
      "      creationTimestamp: null\r\n",
      "      labels:\r\n",
      "        app: mockup\r\n",
      "        fairing-deployer: serving\r\n",
      "        fairing-id: 89159f80-d517-11e9-b95f-f6ae68c06c0f\r\n",
      "      name: fairing-deployer\r\n",
      "    spec:\r\n",
      "      containers:\r\n",
      "      - command:\r\n",
      "        - seldon-core-microservice\r\n",
      "        - build-train-deploy.ModelServe\r\n",
      "        - REST\r\n",
      "        - --service-type=MODEL\r\n",
      "        - --persistence=0\r\n",
      "        env:\r\n",
      "        - name: FAIRING_RUNTIME\r\n",
      "          value: \"1\"\r\n",
      "        image: gcr.io/jlewi-dev/fairing-job/fairing-job:74E59C19\r\n",
      "        imagePullPolicy: IfNotPresent\r\n",
      "        name: model\r\n",
      "        resources: {}\r\n",
      "        securityContext:\r\n",
      "          runAsUser: 0\r\n",
      "        terminationMessagePath: /dev/termination-log\r\n",
      "        terminationMessagePolicy: File\r\n",
      "        workingDir: /app/\r\n",
      "      dnsPolicy: ClusterFirst\r\n",
      "      restartPolicy: Always\r\n",
      "      schedulerName: default-scheduler\r\n",
      "      securityContext: {}\r\n",
      "      terminationGracePeriodSeconds: 30\r\n",
      "status:\r\n",
      "  conditions:\r\n",
      "  - lastTransitionTime: \"2019-09-12T04:41:07Z\"\r\n",
      "    lastUpdateTime: \"2019-09-12T04:41:07Z\"\r\n",
      "    message: Deployment does not have minimum availability.\r\n",
      "    reason: MinimumReplicasUnavailable\r\n",
      "    status: \"False\"\r\n",
      "    type: Available\r\n",
      "  - lastTransitionTime: \"2019-09-12T04:41:07Z\"\r\n",
      "    lastUpdateTime: \"2019-09-12T04:41:07Z\"\r\n",
      "    message: ReplicaSet \"fairing-deployer-94ns7-577f966d4d\" is progressing.\r\n",
      "    reason: ReplicaSetUpdated\r\n",
      "    status: \"True\"\r\n",
      "    type: Progressing\r\n",
      "  observedGeneration: 1\r\n",
      "  replicas: 1\r\n",
      "  unavailableReplicas: 1\r\n",
      "  updatedReplicas: 1\r\n"
     ]
    }
   ],
   "source": [
    "!kubectl get deploy -o yaml {deployer.deployment.metadata.name}"
   ]
  },
  {
   "cell_type": "markdown",
   "metadata": {},
   "source": [
    "## Send an inference request to the prediction server\n",
    "\n",
    "* Now that you have deployed the model into your Kubernetes cluster, you can send a REST request to \n",
    "  preform inference\n",
    "* The code below reads some data, sends, a prediction request and then prints out the response"
   ]
  },
  {
   "cell_type": "code",
   "execution_count": 21,
   "metadata": {},
   "outputs": [],
   "source": [
    "(train_X, train_y), (test_X, test_y) = read_synthetic_input()\n"
   ]
  },
  {
   "cell_type": "code",
   "execution_count": 22,
   "metadata": {},
   "outputs": [
    {
     "name": "stdout",
     "output_type": "stream",
     "text": [
      "(b'{\"data\":{\"names\":[\"t:0\",\"t:1\"],\"tensor\":{\"shape\":[1,2],\"values\":[-18.9192104'\n",
      " b'3395996,73.20831298828125]}},\"meta\":{}}\\n')\n"
     ]
    }
   ],
   "source": [
    "full_url = url + \":5000/predict\"\n",
    "result = util.predict_nparray(full_url, test_X)\n",
    "pprint.pprint(result.content)"
   ]
  },
  {
   "cell_type": "markdown",
   "metadata": {},
   "source": [
    "## Clean up the prediction endpoint\n",
    "\n",
    "* You can use kubectl to delete the Kubernetes resources for your model\n",
    "* If you want to delete the resources uncomment the following lines and run them"
   ]
  },
  {
   "cell_type": "code",
   "execution_count": 23,
   "metadata": {},
   "outputs": [],
   "source": [
    "# !kubectl delete service -l app=ames\n",
    "# !kubectl delete deploy -l app=ames"
   ]
  },
  {
   "cell_type": "markdown",
   "metadata": {},
   "source": [
    "## Track Models and Artifacts\n",
    "\n",
    "* Using Kubeflow's metadata server you can track models and artifacts\n",
    "* The ModelServe code was instrumented to log executions and outputs\n",
    "* You can access Kubeflow's metadata UI by selecting **Artifact Store** from the central dashboard\n",
    "  * See [here](https://www.kubeflow.org/docs/other-guides/accessing-uis/) for instructions on connecting to Kubeflow's UIs\n",
    "* You can also use the python SDK to read and write entries\n",
    "* This [notebook](https://github.com/kubeflow/metadata/blob/master/sdk/python/demo.ipynb) illustrates a bunch of metadata functionality"
   ]
  },
  {
   "cell_type": "markdown",
   "metadata": {},
   "source": [
    "### Create a workspace\n",
    "\n",
    "* Kubeflow metadata uses workspaces as a logical grouping for artifacts, executions, and datasets that belong together\n",
    "* Earlier in the notebook we defined the function `create_workspace` to create a workspace for this example\n",
    "* You can use that function to return a workspace object and then call list to see all the artifacts in that workspace"
   ]
  },
  {
   "cell_type": "code",
   "execution_count": 24,
   "metadata": {},
   "outputs": [
    {
     "data": {
      "text/plain": [
       "[{'id': '3',\n",
       "  'workspace': 'xgboost-synthetic',\n",
       "  'run': 'xgboost-synthetic-faring-run2019-09-12T04:37:44.053070',\n",
       "  'create_time': '2019-09-12T04:37:44.217218Z',\n",
       "  'description': 'housing price prediction model using synthetic data',\n",
       "  'model_type': 'linear_regression',\n",
       "  'name': 'housing-price-model',\n",
       "  'owner': 'someone@kubeflow.org',\n",
       "  'version': '2019-09-12T04:37:44.217202',\n",
       "  'uri': 'mockup-model.dat',\n",
       "  'training_framework': {'name': 'xgboost', 'version': '0.9.0'},\n",
       "  'hyperparameters': {'learning_rate': 0.1, 'n_estimators': 50},\n",
       "  'labels': None},\n",
       " {'id': '6',\n",
       "  'workspace': 'xgboost-synthetic',\n",
       "  'run': 'xgboost-synthetic-faring-run2019-09-12T04:41:01.121794',\n",
       "  'create_time': '2019-09-12T04:41:01.256718Z',\n",
       "  'description': 'housing price prediction model using synthetic data',\n",
       "  'model_type': 'linear_regression',\n",
       "  'name': 'housing-price-model',\n",
       "  'owner': 'someone@kubeflow.org',\n",
       "  'version': '2019-09-12T04:41:01.256698',\n",
       "  'uri': 'mockup-model.dat',\n",
       "  'training_framework': {'name': 'xgboost', 'version': '0.9.0'},\n",
       "  'hyperparameters': {'learning_rate': 0.1, 'n_estimators': 50},\n",
       "  'labels': None}]"
      ]
     },
     "execution_count": 24,
     "metadata": {},
     "output_type": "execute_result"
    }
   ],
   "source": [
    "ws = create_workspace()\n",
    "ws.list()"
   ]
  },
  {
   "cell_type": "markdown",
   "metadata": {},
   "source": [
    "## Create a pipeline to train your model\n",
    "\n",
    "* [Kubeflow pipelines](https://www.kubeflow.org/docs/pipelines/) makes it easy to define complex workflows to build and deploy models\n",
    "* Below you will define and run a simple one step pipeline to train your model\n",
    "* Kubeflow pipelines uses experiments to group different runs of a pipeline together\n",
    "* So you start by defining a name for your experiement"
   ]
  },
  {
   "cell_type": "markdown",
   "metadata": {},
   "source": [
    "#### Define the pipeline\n",
    "\n",
    "* To create a pipeline you create a function and decorate it with the `@dsl.pipeline` decorator\n",
    "  * You use the decorator to give the pipeline a name and description\n",
    "  \n",
    "* Inside the function, each step in the function is defined by a ContainerOp that specifies\n",
    "  a container to invoke\n",
    " \n",
    "* You will use the container image that you built earlier using Fairing\n",
    "* Since the Fairing preprocessor added a main function using [python-fire](https://github.com/google/python-fire), a step in your pipeline can invocation any function in the ModelServe class just by setting the command for the container op\n",
    "* See the pipelines [SDK reference](https://kubeflow-pipelines.readthedocs.io/en/latest/) for more information"
   ]
  },
  {
   "cell_type": "code",
   "execution_count": 25,
   "metadata": {},
   "outputs": [],
   "source": [
    "@dsl.pipeline(\n",
    "   name='Training pipeline',\n",
    "   description='A pipeline that trains an xgboost model for the Ames dataset.'\n",
    ")\n",
    "def train_pipeline(\n",
    "   ):      \n",
    "    command=[\"python\", preprocessor.executable.name, \"train\"]\n",
    "    train_op = dsl.ContainerOp(\n",
    "            name=\"train\", \n",
    "            image=builder.image_tag,        \n",
    "            command=command,\n",
    "            ).apply(\n",
    "                gcp.use_gcp_secret('user-gcp-sa'),\n",
    "            )\n",
    "    train_op.container.working_dir = \"/app\""
   ]
  },
  {
   "cell_type": "markdown",
   "metadata": {},
   "source": [
    "#### Compile the pipeline"
   ]
  },
  {
   "cell_type": "markdown",
   "metadata": {},
   "source": [
    "* Pipelines need to be compiled"
   ]
  },
  {
   "cell_type": "code",
   "execution_count": 26,
   "metadata": {},
   "outputs": [],
   "source": [
    "pipeline_func = train_pipeline\n",
    "pipeline_filename = pipeline_func.__name__ + '.pipeline.zip'\n",
    "compiler.Compiler().compile(pipeline_func, pipeline_filename)"
   ]
  },
  {
   "cell_type": "markdown",
   "metadata": {},
   "source": [
    "#### Submit the pipeline for execution"
   ]
  },
  {
   "cell_type": "markdown",
   "metadata": {},
   "source": [
    "* Pipelines groups runs using experiments\n",
    "* So before you submit a pipeline you need to create an experiment or pick an existing experiment\n",
    "* Once you have compiled a pipeline, you can use the pipelines SDK to submit that pipeline\n"
   ]
  },
  {
   "cell_type": "code",
   "execution_count": 27,
   "metadata": {},
   "outputs": [
    {
     "name": "stderr",
     "output_type": "stream",
     "text": [
      "Creating experiment MockupModel.\n"
     ]
    },
    {
     "data": {
      "text/html": [
       "Experiment link <a href=\"/pipeline/#/experiments/details/c6470356-3a73-4537-8fcb-4c3fa17d8377\" target=\"_blank\" >here</a>"
      ],
      "text/plain": [
       "<IPython.core.display.HTML object>"
      ]
     },
     "metadata": {},
     "output_type": "display_data"
    },
    {
     "data": {
      "text/html": [
       "Run link <a href=\"/pipeline/#/runs/details/8ddf7495-d517-11e9-a836-42010a8e00aa\" target=\"_blank\" >here</a>"
      ],
      "text/plain": [
       "<IPython.core.display.HTML object>"
      ]
     },
     "metadata": {},
     "output_type": "display_data"
    }
   ],
   "source": [
    "EXPERIMENT_NAME = 'MockupModel'\n",
    "\n",
    "#Specify pipeline argument values\n",
    "arguments = {}\n",
    "\n",
    "# Get or create an experiment and submit a pipeline run\n",
    "client = kfp.Client()\n",
    "experiment = client.create_experiment(EXPERIMENT_NAME)\n",
    "\n",
    "#Submit a pipeline run\n",
    "run_name = pipeline_func.__name__ + ' run'\n",
    "run_result = client.run_pipeline(experiment.id, run_name, pipeline_filename, arguments)\n",
    "\n",
    "#vvvvvvvvv This link leads to the run information page. (Note: There is a bug in JupyterLab that modifies the URL and makes the link stop working)"
   ]
  }
 ],
 "metadata": {
  "kernelspec": {
   "display_name": "Python 3",
   "language": "python",
   "name": "python3"
  },
  "language_info": {
   "codemirror_mode": {
    "name": "ipython",
    "version": 3
   },
   "file_extension": ".py",
   "mimetype": "text/x-python",
   "name": "python",
   "nbconvert_exporter": "python",
   "pygments_lexer": "ipython3",
   "version": "3.6.7"
  }
 },
 "nbformat": 4,
 "nbformat_minor": 2
}
